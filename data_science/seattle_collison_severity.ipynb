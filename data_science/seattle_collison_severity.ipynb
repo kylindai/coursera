{
 "cells": [
  {
   "cell_type": "code",
   "execution_count": 12,
   "metadata": {},
   "outputs": [],
   "source": [
    "import pandas as pd"
   ]
  },
  {
   "cell_type": "code",
   "execution_count": 26,
   "metadata": {},
   "outputs": [
    {
     "name": "stderr",
     "output_type": "stream",
     "text": [
      "/Library/Frameworks/Python.framework/Versions/3.7/lib/python3.7/site-packages/IPython/core/interactiveshell.py:3146: DtypeWarning: Columns (35) have mixed types.Specify dtype option on import or set low_memory=False.\n",
      "  interactivity=interactivity, compiler=compiler, result=result)\n"
     ]
    }
   ],
   "source": [
    "# get the collisions dataset\n",
    "# !wget -O Collisions.csv http://data-seattlecitygis.opendata.arcgis.com/datasets/5b5c745e0f1f48e7a53acec63a0022ab_0.csv?outSR=%7B%22latestWkid%22%3A2926%2C%22wkid%22%3A2926%7D\n",
    "\n",
    "df = pd.read_csv('./data/Collisions.csv')"
   ]
  },
  {
   "cell_type": "code",
   "execution_count": 15,
   "metadata": {},
   "outputs": [
    {
     "data": {
      "text/html": [
       "<div>\n",
       "<style scoped>\n",
       "    .dataframe tbody tr th:only-of-type {\n",
       "        vertical-align: middle;\n",
       "    }\n",
       "\n",
       "    .dataframe tbody tr th {\n",
       "        vertical-align: top;\n",
       "    }\n",
       "\n",
       "    .dataframe thead th {\n",
       "        text-align: right;\n",
       "    }\n",
       "</style>\n",
       "<table border=\"1\" class=\"dataframe\">\n",
       "  <thead>\n",
       "    <tr style=\"text-align: right;\">\n",
       "      <th></th>\n",
       "      <th>X</th>\n",
       "      <th>Y</th>\n",
       "      <th>OBJECTID</th>\n",
       "      <th>INCKEY</th>\n",
       "      <th>COLDETKEY</th>\n",
       "      <th>INTKEY</th>\n",
       "      <th>PERSONCOUNT</th>\n",
       "      <th>PEDCOUNT</th>\n",
       "      <th>PEDCYLCOUNT</th>\n",
       "      <th>VEHCOUNT</th>\n",
       "      <th>INJURIES</th>\n",
       "      <th>SERIOUSINJURIES</th>\n",
       "      <th>FATALITIES</th>\n",
       "      <th>SDOT_COLCODE</th>\n",
       "      <th>SDOTCOLNUM</th>\n",
       "      <th>SEGLANEKEY</th>\n",
       "      <th>CROSSWALKKEY</th>\n",
       "    </tr>\n",
       "  </thead>\n",
       "  <tbody>\n",
       "    <tr>\n",
       "      <th>count</th>\n",
       "      <td>2.140500e+05</td>\n",
       "      <td>214050.000000</td>\n",
       "      <td>221525.000000</td>\n",
       "      <td>221525.000000</td>\n",
       "      <td>221525.000000</td>\n",
       "      <td>71936.000000</td>\n",
       "      <td>221525.000000</td>\n",
       "      <td>221525.000000</td>\n",
       "      <td>221525.000000</td>\n",
       "      <td>221525.000000</td>\n",
       "      <td>221525.000000</td>\n",
       "      <td>221525.000000</td>\n",
       "      <td>221525.000000</td>\n",
       "      <td>221524.000000</td>\n",
       "      <td>1.272050e+05</td>\n",
       "      <td>221525.000000</td>\n",
       "      <td>2.215250e+05</td>\n",
       "    </tr>\n",
       "    <tr>\n",
       "      <th>mean</th>\n",
       "      <td>1.271147e+06</td>\n",
       "      <td>229822.714977</td>\n",
       "      <td>110763.000000</td>\n",
       "      <td>144824.873233</td>\n",
       "      <td>145053.886627</td>\n",
       "      <td>37626.275537</td>\n",
       "      <td>2.226941</td>\n",
       "      <td>0.038118</td>\n",
       "      <td>0.027360</td>\n",
       "      <td>1.730482</td>\n",
       "      <td>0.373935</td>\n",
       "      <td>0.015208</td>\n",
       "      <td>0.001693</td>\n",
       "      <td>13.383042</td>\n",
       "      <td>7.971063e+06</td>\n",
       "      <td>261.135903</td>\n",
       "      <td>9.577244e+03</td>\n",
       "    </tr>\n",
       "    <tr>\n",
       "      <th>std</th>\n",
       "      <td>7.361903e+03</td>\n",
       "      <td>20463.229585</td>\n",
       "      <td>63948.903529</td>\n",
       "      <td>89222.567072</td>\n",
       "      <td>89598.173976</td>\n",
       "      <td>51968.207339</td>\n",
       "      <td>1.470050</td>\n",
       "      <td>0.201766</td>\n",
       "      <td>0.164537</td>\n",
       "      <td>0.829754</td>\n",
       "      <td>0.732077</td>\n",
       "      <td>0.158052</td>\n",
       "      <td>0.044888</td>\n",
       "      <td>7.300182</td>\n",
       "      <td>2.611523e+06</td>\n",
       "      <td>3246.962907</td>\n",
       "      <td>7.146156e+04</td>\n",
       "    </tr>\n",
       "    <tr>\n",
       "      <th>min</th>\n",
       "      <td>1.249026e+06</td>\n",
       "      <td>184059.089009</td>\n",
       "      <td>1.000000</td>\n",
       "      <td>1001.000000</td>\n",
       "      <td>1001.000000</td>\n",
       "      <td>23807.000000</td>\n",
       "      <td>0.000000</td>\n",
       "      <td>0.000000</td>\n",
       "      <td>0.000000</td>\n",
       "      <td>0.000000</td>\n",
       "      <td>0.000000</td>\n",
       "      <td>0.000000</td>\n",
       "      <td>0.000000</td>\n",
       "      <td>0.000000</td>\n",
       "      <td>1.007024e+06</td>\n",
       "      <td>0.000000</td>\n",
       "      <td>0.000000e+00</td>\n",
       "    </tr>\n",
       "    <tr>\n",
       "      <th>25%</th>\n",
       "      <td>1.266677e+06</td>\n",
       "      <td>214145.383695</td>\n",
       "      <td>55382.000000</td>\n",
       "      <td>71668.000000</td>\n",
       "      <td>71668.000000</td>\n",
       "      <td>28653.000000</td>\n",
       "      <td>2.000000</td>\n",
       "      <td>0.000000</td>\n",
       "      <td>0.000000</td>\n",
       "      <td>2.000000</td>\n",
       "      <td>0.000000</td>\n",
       "      <td>0.000000</td>\n",
       "      <td>0.000000</td>\n",
       "      <td>11.000000</td>\n",
       "      <td>6.007029e+06</td>\n",
       "      <td>0.000000</td>\n",
       "      <td>0.000000e+00</td>\n",
       "    </tr>\n",
       "    <tr>\n",
       "      <th>50%</th>\n",
       "      <td>1.271142e+06</td>\n",
       "      <td>228336.487966</td>\n",
       "      <td>110763.000000</td>\n",
       "      <td>127252.000000</td>\n",
       "      <td>127252.000000</td>\n",
       "      <td>29973.000000</td>\n",
       "      <td>2.000000</td>\n",
       "      <td>0.000000</td>\n",
       "      <td>0.000000</td>\n",
       "      <td>2.000000</td>\n",
       "      <td>0.000000</td>\n",
       "      <td>0.000000</td>\n",
       "      <td>0.000000</td>\n",
       "      <td>11.000000</td>\n",
       "      <td>8.033011e+06</td>\n",
       "      <td>0.000000</td>\n",
       "      <td>0.000000e+00</td>\n",
       "    </tr>\n",
       "    <tr>\n",
       "      <th>75%</th>\n",
       "      <td>1.276029e+06</td>\n",
       "      <td>245908.853680</td>\n",
       "      <td>166144.000000</td>\n",
       "      <td>209935.000000</td>\n",
       "      <td>210155.000000</td>\n",
       "      <td>33984.000000</td>\n",
       "      <td>3.000000</td>\n",
       "      <td>0.000000</td>\n",
       "      <td>0.000000</td>\n",
       "      <td>2.000000</td>\n",
       "      <td>1.000000</td>\n",
       "      <td>0.000000</td>\n",
       "      <td>0.000000</td>\n",
       "      <td>14.000000</td>\n",
       "      <td>1.018101e+07</td>\n",
       "      <td>0.000000</td>\n",
       "      <td>0.000000e+00</td>\n",
       "    </tr>\n",
       "    <tr>\n",
       "      <th>max</th>\n",
       "      <td>1.293052e+06</td>\n",
       "      <td>271525.414794</td>\n",
       "      <td>221525.000000</td>\n",
       "      <td>334020.000000</td>\n",
       "      <td>335520.000000</td>\n",
       "      <td>764413.000000</td>\n",
       "      <td>93.000000</td>\n",
       "      <td>6.000000</td>\n",
       "      <td>2.000000</td>\n",
       "      <td>15.000000</td>\n",
       "      <td>78.000000</td>\n",
       "      <td>41.000000</td>\n",
       "      <td>5.000000</td>\n",
       "      <td>87.000000</td>\n",
       "      <td>1.307202e+07</td>\n",
       "      <td>525241.000000</td>\n",
       "      <td>5.239700e+06</td>\n",
       "    </tr>\n",
       "  </tbody>\n",
       "</table>\n",
       "</div>"
      ],
      "text/plain": [
       "                  X              Y       OBJECTID         INCKEY  \\\n",
       "count  2.140500e+05  214050.000000  221525.000000  221525.000000   \n",
       "mean   1.271147e+06  229822.714977  110763.000000  144824.873233   \n",
       "std    7.361903e+03   20463.229585   63948.903529   89222.567072   \n",
       "min    1.249026e+06  184059.089009       1.000000    1001.000000   \n",
       "25%    1.266677e+06  214145.383695   55382.000000   71668.000000   \n",
       "50%    1.271142e+06  228336.487966  110763.000000  127252.000000   \n",
       "75%    1.276029e+06  245908.853680  166144.000000  209935.000000   \n",
       "max    1.293052e+06  271525.414794  221525.000000  334020.000000   \n",
       "\n",
       "           COLDETKEY         INTKEY    PERSONCOUNT       PEDCOUNT  \\\n",
       "count  221525.000000   71936.000000  221525.000000  221525.000000   \n",
       "mean   145053.886627   37626.275537       2.226941       0.038118   \n",
       "std     89598.173976   51968.207339       1.470050       0.201766   \n",
       "min      1001.000000   23807.000000       0.000000       0.000000   \n",
       "25%     71668.000000   28653.000000       2.000000       0.000000   \n",
       "50%    127252.000000   29973.000000       2.000000       0.000000   \n",
       "75%    210155.000000   33984.000000       3.000000       0.000000   \n",
       "max    335520.000000  764413.000000      93.000000       6.000000   \n",
       "\n",
       "         PEDCYLCOUNT       VEHCOUNT       INJURIES  SERIOUSINJURIES  \\\n",
       "count  221525.000000  221525.000000  221525.000000    221525.000000   \n",
       "mean        0.027360       1.730482       0.373935         0.015208   \n",
       "std         0.164537       0.829754       0.732077         0.158052   \n",
       "min         0.000000       0.000000       0.000000         0.000000   \n",
       "25%         0.000000       2.000000       0.000000         0.000000   \n",
       "50%         0.000000       2.000000       0.000000         0.000000   \n",
       "75%         0.000000       2.000000       1.000000         0.000000   \n",
       "max         2.000000      15.000000      78.000000        41.000000   \n",
       "\n",
       "          FATALITIES   SDOT_COLCODE    SDOTCOLNUM     SEGLANEKEY  CROSSWALKKEY  \n",
       "count  221525.000000  221524.000000  1.272050e+05  221525.000000  2.215250e+05  \n",
       "mean        0.001693      13.383042  7.971063e+06     261.135903  9.577244e+03  \n",
       "std         0.044888       7.300182  2.611523e+06    3246.962907  7.146156e+04  \n",
       "min         0.000000       0.000000  1.007024e+06       0.000000  0.000000e+00  \n",
       "25%         0.000000      11.000000  6.007029e+06       0.000000  0.000000e+00  \n",
       "50%         0.000000      11.000000  8.033011e+06       0.000000  0.000000e+00  \n",
       "75%         0.000000      14.000000  1.018101e+07       0.000000  0.000000e+00  \n",
       "max         5.000000      87.000000  1.307202e+07  525241.000000  5.239700e+06  "
      ]
     },
     "execution_count": 15,
     "metadata": {},
     "output_type": "execute_result"
    }
   ],
   "source": [
    "df.describe()"
   ]
  },
  {
   "cell_type": "code",
   "execution_count": 10,
   "metadata": {},
   "outputs": [
    {
     "data": {
      "text/plain": [
       "(221525, 40)"
      ]
     },
     "execution_count": 10,
     "metadata": {},
     "output_type": "execute_result"
    }
   ],
   "source": [
    "df.shape"
   ]
  },
  {
   "cell_type": "code",
   "execution_count": 5,
   "metadata": {},
   "outputs": [
    {
     "data": {
      "text/html": [
       "<div>\n",
       "<style scoped>\n",
       "    .dataframe tbody tr th:only-of-type {\n",
       "        vertical-align: middle;\n",
       "    }\n",
       "\n",
       "    .dataframe tbody tr th {\n",
       "        vertical-align: top;\n",
       "    }\n",
       "\n",
       "    .dataframe thead th {\n",
       "        text-align: right;\n",
       "    }\n",
       "</style>\n",
       "<table border=\"1\" class=\"dataframe\">\n",
       "  <thead>\n",
       "    <tr style=\"text-align: right;\">\n",
       "      <th></th>\n",
       "      <th>X</th>\n",
       "      <th>Y</th>\n",
       "      <th>OBJECTID</th>\n",
       "      <th>INCKEY</th>\n",
       "      <th>COLDETKEY</th>\n",
       "      <th>REPORTNO</th>\n",
       "      <th>STATUS</th>\n",
       "      <th>ADDRTYPE</th>\n",
       "      <th>INTKEY</th>\n",
       "      <th>LOCATION</th>\n",
       "      <th>...</th>\n",
       "      <th>ROADCOND</th>\n",
       "      <th>LIGHTCOND</th>\n",
       "      <th>PEDROWNOTGRNT</th>\n",
       "      <th>SDOTCOLNUM</th>\n",
       "      <th>SPEEDING</th>\n",
       "      <th>ST_COLCODE</th>\n",
       "      <th>ST_COLDESC</th>\n",
       "      <th>SEGLANEKEY</th>\n",
       "      <th>CROSSWALKKEY</th>\n",
       "      <th>HITPARKEDCAR</th>\n",
       "    </tr>\n",
       "  </thead>\n",
       "  <tbody>\n",
       "    <tr>\n",
       "      <th>0</th>\n",
       "      <td>-122.386772</td>\n",
       "      <td>47.564720</td>\n",
       "      <td>1</td>\n",
       "      <td>326234</td>\n",
       "      <td>327734</td>\n",
       "      <td>E984735</td>\n",
       "      <td>Matched</td>\n",
       "      <td>Intersection</td>\n",
       "      <td>31893.0</td>\n",
       "      <td>CALIFORNIA AVE SW AND SW GENESEE ST</td>\n",
       "      <td>...</td>\n",
       "      <td>Dry</td>\n",
       "      <td>Daylight</td>\n",
       "      <td>Y</td>\n",
       "      <td>NaN</td>\n",
       "      <td>NaN</td>\n",
       "      <td>2</td>\n",
       "      <td>Vehicle turning left hits pedestrian</td>\n",
       "      <td>0</td>\n",
       "      <td>0</td>\n",
       "      <td>N</td>\n",
       "    </tr>\n",
       "    <tr>\n",
       "      <th>1</th>\n",
       "      <td>-122.341806</td>\n",
       "      <td>47.686934</td>\n",
       "      <td>2</td>\n",
       "      <td>326246</td>\n",
       "      <td>327746</td>\n",
       "      <td>E985430</td>\n",
       "      <td>Matched</td>\n",
       "      <td>Intersection</td>\n",
       "      <td>24228.0</td>\n",
       "      <td>STONE AVE N AND N 80TH ST</td>\n",
       "      <td>...</td>\n",
       "      <td>Wet</td>\n",
       "      <td>Dark - Street Lights On</td>\n",
       "      <td>NaN</td>\n",
       "      <td>NaN</td>\n",
       "      <td>NaN</td>\n",
       "      <td>10</td>\n",
       "      <td>Entering at angle</td>\n",
       "      <td>0</td>\n",
       "      <td>0</td>\n",
       "      <td>N</td>\n",
       "    </tr>\n",
       "    <tr>\n",
       "      <th>2</th>\n",
       "      <td>-122.374899</td>\n",
       "      <td>47.668666</td>\n",
       "      <td>3</td>\n",
       "      <td>329254</td>\n",
       "      <td>330754</td>\n",
       "      <td>EA16720</td>\n",
       "      <td>Matched</td>\n",
       "      <td>Block</td>\n",
       "      <td>NaN</td>\n",
       "      <td>NW MARKET ST BETWEEN 14TH AVE NW AND 15TH AVE NW</td>\n",
       "      <td>...</td>\n",
       "      <td>Dry</td>\n",
       "      <td>Daylight</td>\n",
       "      <td>NaN</td>\n",
       "      <td>NaN</td>\n",
       "      <td>NaN</td>\n",
       "      <td>11</td>\n",
       "      <td>From same direction - both going straight - bo...</td>\n",
       "      <td>0</td>\n",
       "      <td>0</td>\n",
       "      <td>N</td>\n",
       "    </tr>\n",
       "    <tr>\n",
       "      <th>3</th>\n",
       "      <td>-122.300758</td>\n",
       "      <td>47.683047</td>\n",
       "      <td>4</td>\n",
       "      <td>21200</td>\n",
       "      <td>21200</td>\n",
       "      <td>1227970</td>\n",
       "      <td>Matched</td>\n",
       "      <td>Intersection</td>\n",
       "      <td>24661.0</td>\n",
       "      <td>25TH AVE NE AND NE 75TH ST</td>\n",
       "      <td>...</td>\n",
       "      <td>Wet</td>\n",
       "      <td>Dark - Street Lights On</td>\n",
       "      <td>NaN</td>\n",
       "      <td>4160038.0</td>\n",
       "      <td>NaN</td>\n",
       "      <td>28</td>\n",
       "      <td>From opposite direction - one left turn - one ...</td>\n",
       "      <td>0</td>\n",
       "      <td>0</td>\n",
       "      <td>N</td>\n",
       "    </tr>\n",
       "    <tr>\n",
       "      <th>4</th>\n",
       "      <td>-122.313053</td>\n",
       "      <td>47.567241</td>\n",
       "      <td>5</td>\n",
       "      <td>17000</td>\n",
       "      <td>17000</td>\n",
       "      <td>1793348</td>\n",
       "      <td>Unmatched</td>\n",
       "      <td>Block</td>\n",
       "      <td>NaN</td>\n",
       "      <td>S DAKOTA ST BETWEEN 15TH AVE S AND 16TH AVE S</td>\n",
       "      <td>...</td>\n",
       "      <td>NaN</td>\n",
       "      <td>NaN</td>\n",
       "      <td>NaN</td>\n",
       "      <td>4289025.0</td>\n",
       "      <td>NaN</td>\n",
       "      <td>NaN</td>\n",
       "      <td>NaN</td>\n",
       "      <td>0</td>\n",
       "      <td>0</td>\n",
       "      <td>N</td>\n",
       "    </tr>\n",
       "  </tbody>\n",
       "</table>\n",
       "<p>5 rows × 40 columns</p>\n",
       "</div>"
      ],
      "text/plain": [
       "            X          Y  OBJECTID  INCKEY  COLDETKEY REPORTNO     STATUS  \\\n",
       "0 -122.386772  47.564720         1  326234     327734  E984735    Matched   \n",
       "1 -122.341806  47.686934         2  326246     327746  E985430    Matched   \n",
       "2 -122.374899  47.668666         3  329254     330754  EA16720    Matched   \n",
       "3 -122.300758  47.683047         4   21200      21200  1227970    Matched   \n",
       "4 -122.313053  47.567241         5   17000      17000  1793348  Unmatched   \n",
       "\n",
       "       ADDRTYPE   INTKEY                                          LOCATION  \\\n",
       "0  Intersection  31893.0               CALIFORNIA AVE SW AND SW GENESEE ST   \n",
       "1  Intersection  24228.0                         STONE AVE N AND N 80TH ST   \n",
       "2         Block      NaN  NW MARKET ST BETWEEN 14TH AVE NW AND 15TH AVE NW   \n",
       "3  Intersection  24661.0                        25TH AVE NE AND NE 75TH ST   \n",
       "4         Block      NaN     S DAKOTA ST BETWEEN 15TH AVE S AND 16TH AVE S   \n",
       "\n",
       "   ... ROADCOND                LIGHTCOND PEDROWNOTGRNT SDOTCOLNUM SPEEDING  \\\n",
       "0  ...      Dry                 Daylight             Y        NaN      NaN   \n",
       "1  ...      Wet  Dark - Street Lights On           NaN        NaN      NaN   \n",
       "2  ...      Dry                 Daylight           NaN        NaN      NaN   \n",
       "3  ...      Wet  Dark - Street Lights On           NaN  4160038.0      NaN   \n",
       "4  ...      NaN                      NaN           NaN  4289025.0      NaN   \n",
       "\n",
       "   ST_COLCODE                                         ST_COLDESC  SEGLANEKEY  \\\n",
       "0           2               Vehicle turning left hits pedestrian           0   \n",
       "1          10                                  Entering at angle           0   \n",
       "2          11  From same direction - both going straight - bo...           0   \n",
       "3          28  From opposite direction - one left turn - one ...           0   \n",
       "4         NaN                                                NaN           0   \n",
       "\n",
       "   CROSSWALKKEY  HITPARKEDCAR  \n",
       "0             0             N  \n",
       "1             0             N  \n",
       "2             0             N  \n",
       "3             0             N  \n",
       "4             0             N  \n",
       "\n",
       "[5 rows x 40 columns]"
      ]
     },
     "execution_count": 5,
     "metadata": {},
     "output_type": "execute_result"
    }
   ],
   "source": [
    "df.head()"
   ]
  },
  {
   "cell_type": "code",
   "execution_count": 6,
   "metadata": {},
   "outputs": [
    {
     "data": {
      "text/plain": [
       "Index(['X', 'Y', 'OBJECTID', 'INCKEY', 'COLDETKEY', 'REPORTNO', 'STATUS',\n",
       "       'ADDRTYPE', 'INTKEY', 'LOCATION', 'EXCEPTRSNCODE', 'EXCEPTRSNDESC',\n",
       "       'SEVERITYCODE', 'SEVERITYDESC', 'COLLISIONTYPE', 'PERSONCOUNT',\n",
       "       'PEDCOUNT', 'PEDCYLCOUNT', 'VEHCOUNT', 'INJURIES', 'SERIOUSINJURIES',\n",
       "       'FATALITIES', 'INCDATE', 'INCDTTM', 'JUNCTIONTYPE', 'SDOT_COLCODE',\n",
       "       'SDOT_COLDESC', 'INATTENTIONIND', 'UNDERINFL', 'WEATHER', 'ROADCOND',\n",
       "       'LIGHTCOND', 'PEDROWNOTGRNT', 'SDOTCOLNUM', 'SPEEDING', 'ST_COLCODE',\n",
       "       'ST_COLDESC', 'SEGLANEKEY', 'CROSSWALKKEY', 'HITPARKEDCAR'],\n",
       "      dtype='object')"
      ]
     },
     "execution_count": 6,
     "metadata": {},
     "output_type": "execute_result"
    }
   ],
   "source": [
    "df.columns"
   ]
  },
  {
   "cell_type": "code",
   "execution_count": 7,
   "metadata": {},
   "outputs": [
    {
     "data": {
      "text/plain": [
       "X                  float64\n",
       "Y                  float64\n",
       "OBJECTID             int64\n",
       "INCKEY               int64\n",
       "COLDETKEY            int64\n",
       "REPORTNO            object\n",
       "STATUS              object\n",
       "ADDRTYPE            object\n",
       "INTKEY             float64\n",
       "LOCATION            object\n",
       "EXCEPTRSNCODE       object\n",
       "EXCEPTRSNDESC       object\n",
       "SEVERITYCODE        object\n",
       "SEVERITYDESC        object\n",
       "COLLISIONTYPE       object\n",
       "PERSONCOUNT          int64\n",
       "PEDCOUNT             int64\n",
       "PEDCYLCOUNT          int64\n",
       "VEHCOUNT             int64\n",
       "INJURIES             int64\n",
       "SERIOUSINJURIES      int64\n",
       "FATALITIES           int64\n",
       "INCDATE             object\n",
       "INCDTTM             object\n",
       "JUNCTIONTYPE        object\n",
       "SDOT_COLCODE       float64\n",
       "SDOT_COLDESC        object\n",
       "INATTENTIONIND      object\n",
       "UNDERINFL           object\n",
       "WEATHER             object\n",
       "ROADCOND            object\n",
       "LIGHTCOND           object\n",
       "PEDROWNOTGRNT       object\n",
       "SDOTCOLNUM         float64\n",
       "SPEEDING            object\n",
       "ST_COLCODE          object\n",
       "ST_COLDESC          object\n",
       "SEGLANEKEY           int64\n",
       "CROSSWALKKEY         int64\n",
       "HITPARKEDCAR        object\n",
       "dtype: object"
      ]
     },
     "execution_count": 7,
     "metadata": {},
     "output_type": "execute_result"
    }
   ],
   "source": [
    "df.dtypes"
   ]
  },
  {
   "cell_type": "code",
   "execution_count": 8,
   "metadata": {},
   "outputs": [
    {
     "data": {
      "text/plain": [
       "1     137485\n",
       "2      58698\n",
       "0      21635\n",
       "2b      3098\n",
       "3        349\n",
       "Name: SEVERITYCODE, dtype: int64"
      ]
     },
     "execution_count": 8,
     "metadata": {},
     "output_type": "execute_result"
    }
   ],
   "source": [
    "df['SEVERITYCODE'].value_counts()"
   ]
  },
  {
   "cell_type": "code",
   "execution_count": 11,
   "metadata": {},
   "outputs": [
    {
     "data": {
      "text/plain": [
       "375"
      ]
     },
     "execution_count": 11,
     "metadata": {},
     "output_type": "execute_result"
    }
   ],
   "source": [
    "df['FATALITIES'].sum()"
   ]
  },
  {
   "cell_type": "code",
   "execution_count": 16,
   "metadata": {},
   "outputs": [],
   "source": [
    "import matplotlib as mpl\n",
    "import matplotlib.pyplot as plt\n",
    "%matplotlib inline"
   ]
  },
  {
   "cell_type": "code",
   "execution_count": 327,
   "metadata": {},
   "outputs": [
    {
     "data": {
      "text/plain": [
       "<AxesSubplot:>"
      ]
     },
     "execution_count": 327,
     "metadata": {},
     "output_type": "execute_result"
    },
    {
     "data": {
      "image/png": "[encoded data removed]",
      "text/plain": [
       "<Figure size 432x288 with 1 Axes>"
      ]
     },
     "metadata": {
      "needs_background": "light"
     },
     "output_type": "display_data"
    }
   ],
   "source": [
    "df['SEVERITYCODE'].hist(bins=10)\n",
    "# plt.hist(df['SEVERITYCODE'], histtype='bar')"
   ]
  },
  {
   "cell_type": "code",
   "execution_count": 274,
   "metadata": {},
   "outputs": [
    {
     "data": {
      "text/plain": [
       "SEVERITYCODE  COLLISIONTYPE\n",
       "0             Angles               1\n",
       "              Pedestrian           1\n",
       "1             Parked Car       45702\n",
       "              Angles           21282\n",
       "              Rear Ended       19628\n",
       "              Other            17798\n",
       "              Sideswipe        16272\n",
       "              Left Turn         8365\n",
       "              Right Turn        2375\n",
       "              Head On           1171\n",
       "              Cycles             680\n",
       "              Pedestrian         677\n",
       "2             Rear Ended       14827\n",
       "              Angles           13819\n",
       "              Other             6186\n",
       "              Pedestrian        6006\n",
       "              Left Turn         5459\n",
       "              Cycles            4801\n",
       "              Parked Car        2714\n",
       "              Sideswipe         2538\n",
       "              Head On            888\n",
       "              Right Turn         619\n",
       "2b            Pedestrian         853\n",
       "              Other              510\n",
       "              Angles             446\n",
       "              Cycles             426\n",
       "              Left Turn          275\n",
       "              Rear Ended         225\n",
       "              Parked Car         128\n",
       "              Head On            108\n",
       "              Sideswipe           71\n",
       "              Right Turn          22\n",
       "3             Pedestrian         129\n",
       "              Other               94\n",
       "              Angles              25\n",
       "              Cycles              25\n",
       "              Head On             21\n",
       "              Left Turn           16\n",
       "              Rear Ended          11\n",
       "              Sideswipe           10\n",
       "              Parked Car           7\n",
       "              Right Turn           1\n",
       "Name: COLLISIONTYPE, dtype: int64"
      ]
     },
     "execution_count": 274,
     "metadata": {},
     "output_type": "execute_result"
    }
   ],
   "source": [
    "df.groupby(['SEVERITYCODE'])['COLLISIONTYPE'].value_counts()"
   ]
  },
  {
   "cell_type": "code",
   "execution_count": 279,
   "metadata": {},
   "outputs": [
    {
     "data": {
      "text/plain": [
       "COLLISIONTYPE  SEVERITYCODE\n",
       "Angles         1               0.598263\n",
       "               2               0.388469\n",
       "               2b              0.012538\n",
       "               3               0.000703\n",
       "               0               0.000028\n",
       "Cycles         2               0.809339\n",
       "               1               0.114633\n",
       "               2b              0.071814\n",
       "               3               0.004214\n",
       "Head On        1               0.535192\n",
       "               2               0.405850\n",
       "               2b              0.049360\n",
       "               3               0.009598\n",
       "Left Turn      1               0.592632\n",
       "               2               0.386752\n",
       "               2b              0.019483\n",
       "               3               0.001134\n",
       "Other          1               0.723849\n",
       "               2               0.251586\n",
       "               2b              0.020742\n",
       "               3               0.003823\n",
       "Parked Car     1               0.941319\n",
       "               2               0.055900\n",
       "               2b              0.002636\n",
       "               3               0.000144\n",
       "Pedestrian     2               0.783459\n",
       "               2b              0.111271\n",
       "               1               0.088312\n",
       "               3               0.016828\n",
       "               0               0.000130\n",
       "Rear Ended     1               0.565795\n",
       "               2               0.427402\n",
       "               2b              0.006486\n",
       "               3               0.000317\n",
       "Right Turn     1               0.787206\n",
       "               2               0.205171\n",
       "               2b              0.007292\n",
       "               3               0.000331\n",
       "Sideswipe      1               0.861363\n",
       "               2               0.134350\n",
       "               2b              0.003758\n",
       "               3               0.000529\n",
       "Name: SEVERITYCODE, dtype: float64"
      ]
     },
     "execution_count": 279,
     "metadata": {},
     "output_type": "execute_result"
    }
   ],
   "source": [
    "df.groupby(['COLLISIONTYPE'])['SEVERITYCODE'].value_counts(normalize=True)"
   ]
  },
  {
   "cell_type": "code",
   "execution_count": 286,
   "metadata": {},
   "outputs": [
    {
     "data": {
      "text/plain": [
       "0     159521\n",
       "1      47312\n",
       "2      10694\n",
       "3       2730\n",
       "4        816\n",
       "5        274\n",
       "6        100\n",
       "7         40\n",
       "8         12\n",
       "9         10\n",
       "10         6\n",
       "11         5\n",
       "13         2\n",
       "78         1\n",
       "15         1\n",
       "12         1\n",
       "Name: INJURIES, dtype: int64"
      ]
     },
     "execution_count": 286,
     "metadata": {},
     "output_type": "execute_result"
    }
   ],
   "source": [
    "df.INJURIES.value_counts()"
   ]
  },
  {
   "cell_type": "code",
   "execution_count": 287,
   "metadata": {},
   "outputs": [
    {
     "data": {
      "text/plain": [
       "INJURIES  SEVERITYDESC                  \n",
       "0         Property Damage Only Collision    137671\n",
       "          Unknown                            21616\n",
       "          Fatality Collision                   228\n",
       "          Serious Injury Collision               6\n",
       "1         Injury Collision                   44962\n",
       "          Serious Injury Collision            2282\n",
       "          Fatality Collision                    68\n",
       "2         Injury Collision                   10130\n",
       "          Serious Injury Collision             535\n",
       "          Fatality Collision                    29\n",
       "3         Injury Collision                    2551\n",
       "          Serious Injury Collision             165\n",
       "          Fatality Collision                    14\n",
       "4         Injury Collision                     745\n",
       "          Serious Injury Collision              64\n",
       "          Fatality Collision                     7\n",
       "5         Injury Collision                     238\n",
       "          Serious Injury Collision              34\n",
       "          Fatality Collision                     2\n",
       "6         Injury Collision                      90\n",
       "          Serious Injury Collision               9\n",
       "          Fatality Collision                     1\n",
       "7         Injury Collision                      35\n",
       "          Serious Injury Collision               5\n",
       "8         Injury Collision                      11\n",
       "          Serious Injury Collision               1\n",
       "9         Injury Collision                      10\n",
       "10        Injury Collision                       5\n",
       "          Serious Injury Collision               1\n",
       "11        Injury Collision                       3\n",
       "          Serious Injury Collision               2\n",
       "12        Injury Collision                       1\n",
       "13        Injury Collision                       2\n",
       "15        Serious Injury Collision               1\n",
       "78        Fatality Collision                     1\n",
       "Name: SEVERITYDESC, dtype: int64"
      ]
     },
     "execution_count": 287,
     "metadata": {},
     "output_type": "execute_result"
    }
   ],
   "source": [
    "df.groupby(['INJURIES'])['SEVERITYDESC'].value_counts()"
   ]
  },
  {
   "cell_type": "code",
   "execution_count": 297,
   "metadata": {},
   "outputs": [
    {
     "data": {
      "text/plain": [
       "(0, 78)"
      ]
     },
     "execution_count": 297,
     "metadata": {},
     "output_type": "execute_result"
    }
   ],
   "source": [
    "df.INJURIES.min(), df.INJURIES.max()"
   ]
  },
  {
   "cell_type": "code",
   "execution_count": 321,
   "metadata": {},
   "outputs": [
    {
     "data": {
      "image/png": "[encoded data removed]",
      "text/plain": [
       "<Figure size 864x432 with 7 Axes>"
      ]
     },
     "metadata": {
      "needs_background": "light"
     },
     "output_type": "display_data"
    }
   ],
   "source": [
    "import seaborn as sns\n",
    "\n",
    "bins = np.linspace(df.INJURIES.min(), df.INJURIES.max(), 10)\n",
    "g = sns.FacetGrid(df, col=\"JUNCTIONTYPE\", hue=\"SEVERITYDESC\", palette=\"Set1\", col_wrap=4)\n",
    "g.map(plt.hist, 'INJURIES', bins=bins, ec=\"k\", alpha=0.8)\n",
    "\n",
    "g.axes[-1].legend()\n",
    "plt.show()"
   ]
  },
  {
   "cell_type": "code",
   "execution_count": 323,
   "metadata": {},
   "outputs": [
    {
     "data": {
      "text/plain": [
       "Text(0, 0.5, 'Number of Collision')"
      ]
     },
     "execution_count": 323,
     "metadata": {},
     "output_type": "execute_result"
    },
    {
     "data": {
      "image/png": "[encoded data removed]",
      "text/plain": [
       "<Figure size 432x288 with 1 Axes>"
      ]
     },
     "metadata": {
      "needs_background": "light"
     },
     "output_type": "display_data"
    }
   ],
   "source": [
    "sns.countplot(x=\"JUNCTIONTYPE\", hue=\"SEVERITYDESC\", data=df, palette=\"Paired\")\n",
    "\n",
    "plt.title('Junction Type and Severity count')\n",
    "plt.xlabel('Junction Type')\n",
    "plt.xticks(rotation = 30)\n",
    "plt.ylabel('Number of Collision')"
   ]
  },
  {
   "cell_type": "code",
   "execution_count": 314,
   "metadata": {},
   "outputs": [
    {
     "data": {
      "image/png": "[encoded data removed]",
      "text/plain": [
       "<Figure size 1080x216 with 3 Axes>"
      ]
     },
     "metadata": {
      "needs_background": "light"
     },
     "output_type": "display_data"
    }
   ],
   "source": [
    "bins = np.linspace(df.VEHCOUNT.min(), df.VEHCOUNT.max(), 10)\n",
    "g = sns.FacetGrid(df, col=\"ADDRTYPE\", hue=\"SEVERITYDESC\", palette=\"Set1\", col_wrap=5)\n",
    "g.map(plt.hist, 'VEHCOUNT', bins=bins, ec=\"k\", alpha=0.8)\n",
    "\n",
    "g.axes[-1].legend()\n",
    "plt.show()"
   ]
  },
  {
   "cell_type": "code",
   "execution_count": 319,
   "metadata": {},
   "outputs": [
    {
     "ename": "TypeError",
     "evalue": "set_xlabel() missing 1 required positional argument: 'xlabel'",
     "output_type": "error",
     "traceback": [
      "\u001b[0;31m---------------------------------------------------------------------------\u001b[0m",
      "\u001b[0;31mTypeError\u001b[0m                                 Traceback (most recent call last)",
      "\u001b[0;32m<ipython-input-319-c02b4cd94273>\u001b[0m in \u001b[0;36m<module>\u001b[0;34m\u001b[0m\n\u001b[1;32m      4\u001b[0m \u001b[0;34m\u001b[0m\u001b[0m\n\u001b[1;32m      5\u001b[0m \u001b[0mg\u001b[0m\u001b[0;34m.\u001b[0m\u001b[0maxes\u001b[0m\u001b[0;34m[\u001b[0m\u001b[0;34m-\u001b[0m\u001b[0;36m1\u001b[0m\u001b[0;34m]\u001b[0m\u001b[0;34m.\u001b[0m\u001b[0mlegend\u001b[0m\u001b[0;34m(\u001b[0m\u001b[0;34m)\u001b[0m\u001b[0;34m\u001b[0m\u001b[0;34m\u001b[0m\u001b[0m\n\u001b[0;32m----> 6\u001b[0;31m \u001b[0mg\u001b[0m\u001b[0;34m.\u001b[0m\u001b[0maxes\u001b[0m\u001b[0;34m[\u001b[0m\u001b[0;34m-\u001b[0m\u001b[0;36m1\u001b[0m\u001b[0;34m]\u001b[0m\u001b[0;34m.\u001b[0m\u001b[0mset_xlabel\u001b[0m\u001b[0;34m(\u001b[0m\u001b[0mrotation\u001b[0m \u001b[0;34m=\u001b[0m \u001b[0;36m45\u001b[0m\u001b[0;34m)\u001b[0m\u001b[0;34m\u001b[0m\u001b[0;34m\u001b[0m\u001b[0m\n\u001b[0m\u001b[1;32m      7\u001b[0m \u001b[0mplt\u001b[0m\u001b[0;34m.\u001b[0m\u001b[0mshow\u001b[0m\u001b[0;34m(\u001b[0m\u001b[0;34m)\u001b[0m\u001b[0;34m\u001b[0m\u001b[0;34m\u001b[0m\u001b[0m\n",
      "\u001b[0;31mTypeError\u001b[0m: set_xlabel() missing 1 required positional argument: 'xlabel'"
     ]
    },
    {
     "data": {
      "image/png": "[encoded data removed]",
      "text/plain": [
       "<Figure size 691.2x288 with 3 Axes>"
      ]
     },
     "metadata": {
      "needs_background": "light"
     },
     "output_type": "display_data"
    }
   ],
   "source": [
    "g = sns.FacetGrid(df, col=\"ADDRTYPE\", hue=\"SEVERITYDESC\", palette=\"Set1\", col_wrap=3, \n",
    "                  sharex=True, height=4, aspect=0.8)\n",
    "g.map(plt.hist, 'COLLISIONTYPE', ec=\"k\", alpha=0.8)\n",
    "\n",
    "g.axes[-1].legend()\n",
    "g.axes[-1].set_xlabel(rotation = 45)\n",
    "plt.show()"
   ]
  },
  {
   "cell_type": "code",
   "execution_count": 27,
   "metadata": {},
   "outputs": [
    {
     "data": {
      "text/plain": [
       "Parked Car    48551\n",
       "Angles        35573\n",
       "Rear Ended    34691\n",
       "Other         24588\n",
       "Sideswipe     18891\n",
       "Left Turn     14115\n",
       "Pedestrian     7666\n",
       "Cycles         5932\n",
       "Right Turn     3017\n",
       "Head On        2188\n",
       "Name: COLLISIONTYPE, dtype: int64"
      ]
     },
     "execution_count": 27,
     "metadata": {},
     "output_type": "execute_result"
    }
   ],
   "source": [
    "df['COLLISIONTYPE'].value_counts()"
   ]
  },
  {
   "cell_type": "code",
   "execution_count": 28,
   "metadata": {},
   "outputs": [
    {
     "data": {
      "text/html": [
       "<div>\n",
       "<style scoped>\n",
       "    .dataframe tbody tr th:only-of-type {\n",
       "        vertical-align: middle;\n",
       "    }\n",
       "\n",
       "    .dataframe tbody tr th {\n",
       "        vertical-align: top;\n",
       "    }\n",
       "\n",
       "    .dataframe thead th {\n",
       "        text-align: right;\n",
       "    }\n",
       "</style>\n",
       "<table border=\"1\" class=\"dataframe\">\n",
       "  <thead>\n",
       "    <tr style=\"text-align: right;\">\n",
       "      <th></th>\n",
       "      <th>X</th>\n",
       "      <th>Y</th>\n",
       "      <th>OBJECTID</th>\n",
       "      <th>INCKEY</th>\n",
       "      <th>COLDETKEY</th>\n",
       "      <th>REPORTNO</th>\n",
       "      <th>STATUS</th>\n",
       "      <th>ADDRTYPE</th>\n",
       "      <th>INTKEY</th>\n",
       "      <th>LOCATION</th>\n",
       "      <th>...</th>\n",
       "      <th>ROADCOND</th>\n",
       "      <th>LIGHTCOND</th>\n",
       "      <th>PEDROWNOTGRNT</th>\n",
       "      <th>SDOTCOLNUM</th>\n",
       "      <th>SPEEDING</th>\n",
       "      <th>ST_COLCODE</th>\n",
       "      <th>ST_COLDESC</th>\n",
       "      <th>SEGLANEKEY</th>\n",
       "      <th>CROSSWALKKEY</th>\n",
       "      <th>HITPARKEDCAR</th>\n",
       "    </tr>\n",
       "  </thead>\n",
       "  <tbody>\n",
       "    <tr>\n",
       "      <th>0</th>\n",
       "      <td>False</td>\n",
       "      <td>False</td>\n",
       "      <td>False</td>\n",
       "      <td>False</td>\n",
       "      <td>False</td>\n",
       "      <td>False</td>\n",
       "      <td>False</td>\n",
       "      <td>False</td>\n",
       "      <td>True</td>\n",
       "      <td>False</td>\n",
       "      <td>...</td>\n",
       "      <td>False</td>\n",
       "      <td>False</td>\n",
       "      <td>False</td>\n",
       "      <td>True</td>\n",
       "      <td>True</td>\n",
       "      <td>False</td>\n",
       "      <td>False</td>\n",
       "      <td>False</td>\n",
       "      <td>False</td>\n",
       "      <td>False</td>\n",
       "    </tr>\n",
       "    <tr>\n",
       "      <th>1</th>\n",
       "      <td>False</td>\n",
       "      <td>False</td>\n",
       "      <td>False</td>\n",
       "      <td>False</td>\n",
       "      <td>False</td>\n",
       "      <td>False</td>\n",
       "      <td>False</td>\n",
       "      <td>False</td>\n",
       "      <td>True</td>\n",
       "      <td>False</td>\n",
       "      <td>...</td>\n",
       "      <td>False</td>\n",
       "      <td>False</td>\n",
       "      <td>True</td>\n",
       "      <td>False</td>\n",
       "      <td>True</td>\n",
       "      <td>False</td>\n",
       "      <td>False</td>\n",
       "      <td>False</td>\n",
       "      <td>False</td>\n",
       "      <td>False</td>\n",
       "    </tr>\n",
       "    <tr>\n",
       "      <th>2</th>\n",
       "      <td>False</td>\n",
       "      <td>False</td>\n",
       "      <td>False</td>\n",
       "      <td>False</td>\n",
       "      <td>False</td>\n",
       "      <td>False</td>\n",
       "      <td>False</td>\n",
       "      <td>False</td>\n",
       "      <td>False</td>\n",
       "      <td>False</td>\n",
       "      <td>...</td>\n",
       "      <td>False</td>\n",
       "      <td>False</td>\n",
       "      <td>True</td>\n",
       "      <td>True</td>\n",
       "      <td>True</td>\n",
       "      <td>False</td>\n",
       "      <td>False</td>\n",
       "      <td>False</td>\n",
       "      <td>False</td>\n",
       "      <td>False</td>\n",
       "    </tr>\n",
       "    <tr>\n",
       "      <th>3</th>\n",
       "      <td>False</td>\n",
       "      <td>False</td>\n",
       "      <td>False</td>\n",
       "      <td>False</td>\n",
       "      <td>False</td>\n",
       "      <td>False</td>\n",
       "      <td>False</td>\n",
       "      <td>False</td>\n",
       "      <td>False</td>\n",
       "      <td>False</td>\n",
       "      <td>...</td>\n",
       "      <td>True</td>\n",
       "      <td>True</td>\n",
       "      <td>True</td>\n",
       "      <td>True</td>\n",
       "      <td>True</td>\n",
       "      <td>False</td>\n",
       "      <td>True</td>\n",
       "      <td>False</td>\n",
       "      <td>False</td>\n",
       "      <td>False</td>\n",
       "    </tr>\n",
       "    <tr>\n",
       "      <th>4</th>\n",
       "      <td>False</td>\n",
       "      <td>False</td>\n",
       "      <td>False</td>\n",
       "      <td>False</td>\n",
       "      <td>False</td>\n",
       "      <td>False</td>\n",
       "      <td>False</td>\n",
       "      <td>False</td>\n",
       "      <td>True</td>\n",
       "      <td>False</td>\n",
       "      <td>...</td>\n",
       "      <td>True</td>\n",
       "      <td>True</td>\n",
       "      <td>True</td>\n",
       "      <td>True</td>\n",
       "      <td>True</td>\n",
       "      <td>False</td>\n",
       "      <td>True</td>\n",
       "      <td>False</td>\n",
       "      <td>False</td>\n",
       "      <td>False</td>\n",
       "    </tr>\n",
       "    <tr>\n",
       "      <th>...</th>\n",
       "      <td>...</td>\n",
       "      <td>...</td>\n",
       "      <td>...</td>\n",
       "      <td>...</td>\n",
       "      <td>...</td>\n",
       "      <td>...</td>\n",
       "      <td>...</td>\n",
       "      <td>...</td>\n",
       "      <td>...</td>\n",
       "      <td>...</td>\n",
       "      <td>...</td>\n",
       "      <td>...</td>\n",
       "      <td>...</td>\n",
       "      <td>...</td>\n",
       "      <td>...</td>\n",
       "      <td>...</td>\n",
       "      <td>...</td>\n",
       "      <td>...</td>\n",
       "      <td>...</td>\n",
       "      <td>...</td>\n",
       "      <td>...</td>\n",
       "    </tr>\n",
       "    <tr>\n",
       "      <th>221520</th>\n",
       "      <td>False</td>\n",
       "      <td>False</td>\n",
       "      <td>False</td>\n",
       "      <td>False</td>\n",
       "      <td>False</td>\n",
       "      <td>False</td>\n",
       "      <td>False</td>\n",
       "      <td>False</td>\n",
       "      <td>True</td>\n",
       "      <td>False</td>\n",
       "      <td>...</td>\n",
       "      <td>False</td>\n",
       "      <td>False</td>\n",
       "      <td>True</td>\n",
       "      <td>True</td>\n",
       "      <td>True</td>\n",
       "      <td>False</td>\n",
       "      <td>False</td>\n",
       "      <td>False</td>\n",
       "      <td>False</td>\n",
       "      <td>False</td>\n",
       "    </tr>\n",
       "    <tr>\n",
       "      <th>221521</th>\n",
       "      <td>False</td>\n",
       "      <td>False</td>\n",
       "      <td>False</td>\n",
       "      <td>False</td>\n",
       "      <td>False</td>\n",
       "      <td>False</td>\n",
       "      <td>False</td>\n",
       "      <td>False</td>\n",
       "      <td>True</td>\n",
       "      <td>False</td>\n",
       "      <td>...</td>\n",
       "      <td>False</td>\n",
       "      <td>False</td>\n",
       "      <td>True</td>\n",
       "      <td>True</td>\n",
       "      <td>True</td>\n",
       "      <td>False</td>\n",
       "      <td>False</td>\n",
       "      <td>False</td>\n",
       "      <td>False</td>\n",
       "      <td>False</td>\n",
       "    </tr>\n",
       "    <tr>\n",
       "      <th>221522</th>\n",
       "      <td>False</td>\n",
       "      <td>False</td>\n",
       "      <td>False</td>\n",
       "      <td>False</td>\n",
       "      <td>False</td>\n",
       "      <td>False</td>\n",
       "      <td>False</td>\n",
       "      <td>False</td>\n",
       "      <td>True</td>\n",
       "      <td>False</td>\n",
       "      <td>...</td>\n",
       "      <td>False</td>\n",
       "      <td>False</td>\n",
       "      <td>True</td>\n",
       "      <td>True</td>\n",
       "      <td>True</td>\n",
       "      <td>False</td>\n",
       "      <td>False</td>\n",
       "      <td>False</td>\n",
       "      <td>False</td>\n",
       "      <td>False</td>\n",
       "    </tr>\n",
       "    <tr>\n",
       "      <th>221523</th>\n",
       "      <td>False</td>\n",
       "      <td>False</td>\n",
       "      <td>False</td>\n",
       "      <td>False</td>\n",
       "      <td>False</td>\n",
       "      <td>False</td>\n",
       "      <td>False</td>\n",
       "      <td>False</td>\n",
       "      <td>False</td>\n",
       "      <td>False</td>\n",
       "      <td>...</td>\n",
       "      <td>False</td>\n",
       "      <td>False</td>\n",
       "      <td>True</td>\n",
       "      <td>True</td>\n",
       "      <td>True</td>\n",
       "      <td>False</td>\n",
       "      <td>False</td>\n",
       "      <td>False</td>\n",
       "      <td>False</td>\n",
       "      <td>False</td>\n",
       "    </tr>\n",
       "    <tr>\n",
       "      <th>221524</th>\n",
       "      <td>False</td>\n",
       "      <td>False</td>\n",
       "      <td>False</td>\n",
       "      <td>False</td>\n",
       "      <td>False</td>\n",
       "      <td>False</td>\n",
       "      <td>False</td>\n",
       "      <td>False</td>\n",
       "      <td>True</td>\n",
       "      <td>False</td>\n",
       "      <td>...</td>\n",
       "      <td>True</td>\n",
       "      <td>True</td>\n",
       "      <td>True</td>\n",
       "      <td>True</td>\n",
       "      <td>True</td>\n",
       "      <td>False</td>\n",
       "      <td>True</td>\n",
       "      <td>False</td>\n",
       "      <td>False</td>\n",
       "      <td>False</td>\n",
       "    </tr>\n",
       "  </tbody>\n",
       "</table>\n",
       "<p>221525 rows × 40 columns</p>\n",
       "</div>"
      ],
      "text/plain": [
       "            X      Y  OBJECTID  INCKEY  COLDETKEY  REPORTNO  STATUS  ADDRTYPE  \\\n",
       "0       False  False     False   False      False     False   False     False   \n",
       "1       False  False     False   False      False     False   False     False   \n",
       "2       False  False     False   False      False     False   False     False   \n",
       "3       False  False     False   False      False     False   False     False   \n",
       "4       False  False     False   False      False     False   False     False   \n",
       "...       ...    ...       ...     ...        ...       ...     ...       ...   \n",
       "221520  False  False     False   False      False     False   False     False   \n",
       "221521  False  False     False   False      False     False   False     False   \n",
       "221522  False  False     False   False      False     False   False     False   \n",
       "221523  False  False     False   False      False     False   False     False   \n",
       "221524  False  False     False   False      False     False   False     False   \n",
       "\n",
       "        INTKEY  LOCATION  ...  ROADCOND  LIGHTCOND  PEDROWNOTGRNT  SDOTCOLNUM  \\\n",
       "0         True     False  ...     False      False          False        True   \n",
       "1         True     False  ...     False      False           True       False   \n",
       "2        False     False  ...     False      False           True        True   \n",
       "3        False     False  ...      True       True           True        True   \n",
       "4         True     False  ...      True       True           True        True   \n",
       "...        ...       ...  ...       ...        ...            ...         ...   \n",
       "221520    True     False  ...     False      False           True        True   \n",
       "221521    True     False  ...     False      False           True        True   \n",
       "221522    True     False  ...     False      False           True        True   \n",
       "221523   False     False  ...     False      False           True        True   \n",
       "221524    True     False  ...      True       True           True        True   \n",
       "\n",
       "        SPEEDING  ST_COLCODE  ST_COLDESC  SEGLANEKEY  CROSSWALKKEY  \\\n",
       "0           True       False       False       False         False   \n",
       "1           True       False       False       False         False   \n",
       "2           True       False       False       False         False   \n",
       "3           True       False        True       False         False   \n",
       "4           True       False        True       False         False   \n",
       "...          ...         ...         ...         ...           ...   \n",
       "221520      True       False       False       False         False   \n",
       "221521      True       False       False       False         False   \n",
       "221522      True       False       False       False         False   \n",
       "221523      True       False       False       False         False   \n",
       "221524      True       False        True       False         False   \n",
       "\n",
       "        HITPARKEDCAR  \n",
       "0              False  \n",
       "1              False  \n",
       "2              False  \n",
       "3              False  \n",
       "4              False  \n",
       "...              ...  \n",
       "221520         False  \n",
       "221521         False  \n",
       "221522         False  \n",
       "221523         False  \n",
       "221524         False  \n",
       "\n",
       "[221525 rows x 40 columns]"
      ]
     },
     "execution_count": 28,
     "metadata": {},
     "output_type": "execute_result"
    }
   ],
   "source": [
    "df.isnull()"
   ]
  },
  {
   "cell_type": "code",
   "execution_count": 116,
   "metadata": {},
   "outputs": [
    {
     "data": {
      "text/plain": [
       "array([18., 24., 14.,  0., 11., 28., 15., 16., 13., 51., 12., 26., 29.,\n",
       "       nan, 64., 23., 55., 56., 25., 69., 34., 33., 27., 31., 32., 48.,\n",
       "       21., 66., 54., 44., 36., 22., 47., 58., 35., 61., 53., 46., 68.,\n",
       "       52., 87.])"
      ]
     },
     "execution_count": 116,
     "metadata": {},
     "output_type": "execute_result"
    }
   ],
   "source": [
    "df['SDOT_COLCODE'].unique()"
   ]
  },
  {
   "cell_type": "code",
   "execution_count": 265,
   "metadata": {},
   "outputs": [
    {
     "data": {
      "text/plain": [
       "Parked Car    48551\n",
       "Angles        35573\n",
       "Rear Ended    34691\n",
       "Other         24588\n",
       "Sideswipe     18891\n",
       "Left Turn     14115\n",
       "Pedestrian     7666\n",
       "Cycles         5932\n",
       "Right Turn     3017\n",
       "Head On        2188\n",
       "Name: COLLISIONTYPE, dtype: int64"
      ]
     },
     "execution_count": 265,
     "metadata": {},
     "output_type": "execute_result"
    }
   ],
   "source": [
    "df['COLLISIONTYPE'].value_counts()"
   ]
  },
  {
   "cell_type": "code",
   "execution_count": 29,
   "metadata": {},
   "outputs": [
    {
     "data": {
      "text/plain": [
       "11.0    92089\n",
       "14.0    59300\n",
       "0.0     19158\n",
       "16.0    10935\n",
       "28.0     9599\n",
       "24.0     7694\n",
       "13.0     6887\n",
       "26.0     5072\n",
       "18.0     3434\n",
       "15.0     1820\n",
       "12.0     1781\n",
       "51.0     1472\n",
       "29.0      559\n",
       "21.0      207\n",
       "56.0      199\n",
       "27.0      173\n",
       "54.0      153\n",
       "23.0      129\n",
       "48.0      119\n",
       "31.0      111\n",
       "25.0      110\n",
       "34.0      100\n",
       "64.0       98\n",
       "69.0       86\n",
       "33.0       57\n",
       "55.0       56\n",
       "66.0       31\n",
       "22.0       19\n",
       "44.0       16\n",
       "32.0       13\n",
       "53.0        9\n",
       "61.0        7\n",
       "35.0        6\n",
       "58.0        6\n",
       "68.0        6\n",
       "36.0        4\n",
       "46.0        4\n",
       "52.0        2\n",
       "47.0        2\n",
       "87.0        1\n",
       "Name: SDOT_COLCODE, dtype: int64"
      ]
     },
     "execution_count": 29,
     "metadata": {},
     "output_type": "execute_result"
    }
   ],
   "source": [
    "df['SDOT_COLCODE'].value_counts()"
   ]
  },
  {
   "cell_type": "code",
   "execution_count": 30,
   "metadata": {},
   "outputs": [
    {
     "data": {
      "text/plain": [
       "MOTOR VEHICLE STRUCK MOTOR VEHICLE, FRONT END AT ANGLE                  92089\n",
       "MOTOR VEHICLE STRUCK MOTOR VEHICLE, REAR END                            59300\n",
       "NOT ENOUGH INFORMATION / NOT APPLICABLE                                 19158\n",
       "MOTOR VEHICLE STRUCK MOTOR VEHICLE, LEFT SIDE SIDESWIPE                 10935\n",
       "MOTOR VEHICLE RAN OFF ROAD - HIT FIXED OBJECT                            9599\n",
       "MOTOR VEHCILE STRUCK PEDESTRIAN                                          7694\n",
       "MOTOR VEHICLE STRUCK MOTOR VEHICLE, LEFT SIDE AT ANGLE                   6887\n",
       "MOTOR VEHICLE STRUCK OBJECT IN ROAD                                      5072\n",
       "MOTOR VEHICLE STRUCK PEDALCYCLIST, FRONT END AT ANGLE                    3434\n",
       "MOTOR VEHICLE STRUCK MOTOR VEHICLE, RIGHT SIDE SIDESWIPE                 1820\n",
       "MOTOR VEHICLE STRUCK MOTOR VEHICLE, RIGHT SIDE AT ANGLE                  1781\n",
       "PEDALCYCLIST STRUCK MOTOR VEHICLE FRONT END AT ANGLE                     1472\n",
       "MOTOR VEHICLE OVERTURNED IN ROAD                                          559\n",
       "MOTOR VEHICLE STRUCK PEDALCYCLIST, REAR END                               207\n",
       "PEDALCYCLIST STRUCK MOTOR VEHICLE LEFT SIDE SIDESWIPE                     199\n",
       "MOTOR VEHICLE RAN OFF ROAD - NO COLLISION                                 173\n",
       "PEDALCYCLIST STRUCK MOTOR VEHICLE REAR END                                153\n",
       "MOTOR VEHICLE STRUCK PEDALCYCLIST, LEFT SIDE SIDESWIPE                    129\n",
       "DRIVERLESS VEHICLE RAN OFF ROAD - HIT FIXED OBJECT                        119\n",
       "DRIVERLESS VEHICLE STRUCK MOTOR VEHICLE FRONT END AT ANGLE                111\n",
       "MOTOR VEHICLE STRUCK TRAIN                                                110\n",
       "DRIVERLESS VEHICLE STRUCK MOTOR VEHICLE REAR END                          100\n",
       "PEDALCYCLIST STRUCK PEDESTRIAN                                             98\n",
       "PEDALCYCLIST OVERTURNED IN ROAD                                            86\n",
       "DRIVERLESS VEHICLE STRUCK MOTOR VEHICLE LEFT SIDE AT ANGLE                 57\n",
       "PEDALCYCLIST STRUCK MOTOR VEHICLE RIGHT SIDE SIDESWIPE                     56\n",
       "PEDALCYCLIST STRUCK OBJECT IN ROAD                                         31\n",
       "MOTOR VEHICLE STRUCK PEDALCYCLIST, RIGHT SIDE SIDESWIPE                    19\n",
       "DRIVERLESS VEHICLE STRUCK PEDESTRIAN                                       16\n",
       "DRIVERLESS VEHICLE STRUCK MOTOR VEHICLE RIGHT SIDE AT ANGLE                13\n",
       "PEDALCYCLIST STRUCK MOTOR VEHICLE LEFT SIDE AT ANGLE                        9\n",
       "PEDALCYCLIST STRUCK PEDALCYCLIST REAR END                                   7\n",
       "PEDALCYCLIST STRUCK PEDALCYCLIST FRONT END AT ANGLE                         6\n",
       "PEDALCYCLIST RAN OFF ROAD - HIT FIXED OBJECT                                6\n",
       "DRIVERLESS VEHICLE STRUCK MOTOR VEHICLE RIGHT SIDE SIDESWIPE                6\n",
       "DRIVERLESS VEHICLE STRUCK OBJECT IN ROADWAY                                 4\n",
       "DRIVERLESS VEHICLE STRUCK MOTOR VEHICLE LEFT SIDE SIDESWIPE                 4\n",
       "PEDALCYCLIST STRUCK MOTOR VEHICLE RIGHT SIDE AT ANGLE                       2\n",
       "DRIVERLESS VEHICLE RAN OFF ROAD - NO COLLISION                              2\n",
       "MOTORIZED SCOOTER COLLISION: COLLISION INVOLVING A MOTORIZED SCOOTER        1\n",
       "Name: SDOT_COLDESC, dtype: int64"
      ]
     },
     "execution_count": 30,
     "metadata": {},
     "output_type": "execute_result"
    }
   ],
   "source": [
    "df['SDOT_COLDESC'].value_counts()"
   ]
  },
  {
   "cell_type": "code",
   "execution_count": 31,
   "metadata": {},
   "outputs": [
    {
     "data": {
      "text/plain": [
       "Y    30188\n",
       "Name: INATTENTIONIND, dtype: int64"
      ]
     },
     "execution_count": 31,
     "metadata": {},
     "output_type": "execute_result"
    }
   ],
   "source": [
    "df['INATTENTIONIND'].value_counts()"
   ]
  },
  {
   "cell_type": "code",
   "execution_count": 32,
   "metadata": {},
   "outputs": [
    {
     "data": {
      "text/plain": [
       "N    103927\n",
       "0     81676\n",
       "Y      5399\n",
       "1      4230\n",
       "Name: UNDERINFL, dtype: int64"
      ]
     },
     "execution_count": 32,
     "metadata": {},
     "output_type": "execute_result"
    }
   ],
   "source": [
    "df['UNDERINFL'].value_counts()"
   ]
  },
  {
   "cell_type": "code",
   "execution_count": 33,
   "metadata": {},
   "outputs": [
    {
     "data": {
      "text/plain": [
       "Clear                       114738\n",
       "Raining                      34036\n",
       "Overcast                     28552\n",
       "Unknown                      15131\n",
       "Snowing                        919\n",
       "Other                          860\n",
       "Fog/Smog/Smoke                 577\n",
       "Sleet/Hail/Freezing Rain       116\n",
       "Blowing Sand/Dirt               56\n",
       "Severe Crosswind                26\n",
       "Partly Cloudy                   10\n",
       "Blowing Snow                     1\n",
       "Name: WEATHER, dtype: int64"
      ]
     },
     "execution_count": 33,
     "metadata": {},
     "output_type": "execute_result"
    }
   ],
   "source": [
    "df['WEATHER'].value_counts()"
   ]
  },
  {
   "cell_type": "code",
   "execution_count": 34,
   "metadata": {},
   "outputs": [
    {
     "data": {
      "text/plain": [
       "Dry               128588\n",
       "Wet                48734\n",
       "Unknown            15139\n",
       "Ice                 1232\n",
       "Snow/Slush          1014\n",
       "Other                136\n",
       "Standing Water       119\n",
       "Sand/Mud/Dirt         77\n",
       "Oil                   64\n",
       "Name: ROADCOND, dtype: int64"
      ]
     },
     "execution_count": 34,
     "metadata": {},
     "output_type": "execute_result"
    }
   ],
   "source": [
    "df['ROADCOND'].value_counts()"
   ]
  },
  {
   "cell_type": "code",
   "execution_count": 35,
   "metadata": {},
   "outputs": [
    {
     "data": {
      "text/plain": [
       "Daylight                    119492\n",
       "Dark - Street Lights On      50133\n",
       "Unknown                      13532\n",
       "Dusk                          6082\n",
       "Dawn                          2609\n",
       "Dark - No Street Lights       1579\n",
       "Dark - Street Lights Off      1239\n",
       "Other                          244\n",
       "Dark - Unknown Lighting         23\n",
       "Name: LIGHTCOND, dtype: int64"
      ]
     },
     "execution_count": 35,
     "metadata": {},
     "output_type": "execute_result"
    }
   ],
   "source": [
    "df['LIGHTCOND'].value_counts()"
   ]
  },
  {
   "cell_type": "code",
   "execution_count": 36,
   "metadata": {},
   "outputs": [
    {
     "data": {
      "text/plain": [
       "Y    5195\n",
       "Name: PEDROWNOTGRNT, dtype: int64"
      ]
     },
     "execution_count": 36,
     "metadata": {},
     "output_type": "execute_result"
    }
   ],
   "source": [
    "df['PEDROWNOTGRNT'].value_counts()"
   ]
  },
  {
   "cell_type": "code",
   "execution_count": 38,
   "metadata": {},
   "outputs": [
    {
     "data": {
      "text/plain": [
       "4301033.0     2\n",
       "4116034.0     2\n",
       "4354014.0     2\n",
       "4038007.0     2\n",
       "4354033.0     2\n",
       "             ..\n",
       "10121021.0    1\n",
       "8267028.0     1\n",
       "11230027.0    1\n",
       "10220016.0    1\n",
       "5266009.0     1\n",
       "Name: SDOTCOLNUM, Length: 127186, dtype: int64"
      ]
     },
     "execution_count": 38,
     "metadata": {},
     "output_type": "execute_result"
    }
   ],
   "source": [
    "df['SDOTCOLNUM'].value_counts()"
   ]
  },
  {
   "cell_type": "code",
   "execution_count": 39,
   "metadata": {},
   "outputs": [
    {
     "data": {
      "text/plain": [
       "Mid-Block (not related to intersection)              101709\n",
       "At Intersection (intersection related)                69228\n",
       "Mid-Block (but intersection related)                  24410\n",
       "Driveway Junction                                     11496\n",
       "At Intersection (but not related to intersection)      2497\n",
       "Ramp Junction                                           190\n",
       "Unknown                                                  21\n",
       "Name: JUNCTIONTYPE, dtype: int64"
      ]
     },
     "execution_count": 39,
     "metadata": {},
     "output_type": "execute_result"
    }
   ],
   "source": [
    "df['JUNCTIONTYPE'].value_counts()"
   ]
  },
  {
   "cell_type": "code",
   "execution_count": 40,
   "metadata": {},
   "outputs": [
    {
     "data": {
      "text/plain": [
       "Y    9929\n",
       "Name: SPEEDING, dtype: int64"
      ]
     },
     "execution_count": 40,
     "metadata": {},
     "output_type": "execute_result"
    }
   ],
   "source": [
    "df['SPEEDING'].value_counts()"
   ]
  },
  {
   "cell_type": "code",
   "execution_count": 41,
   "metadata": {},
   "outputs": [
    {
     "data": {
      "text/plain": [
       "32      41353\n",
       "10      32881\n",
       "14      24008\n",
       "        16900\n",
       "50      13094\n",
       "        ...  \n",
       "53.0        1\n",
       "60          1\n",
       "66.0        1\n",
       "31.0        1\n",
       "56.0        1\n",
       "Name: ST_COLCODE, Length: 112, dtype: int64"
      ]
     },
     "execution_count": 41,
     "metadata": {},
     "output_type": "execute_result"
    }
   ],
   "source": [
    "df['ST_COLCODE'].value_counts()"
   ]
  },
  {
   "cell_type": "code",
   "execution_count": 42,
   "metadata": {},
   "outputs": [
    {
     "data": {
      "text/plain": [
       "N    209492\n",
       "Y     12033\n",
       "Name: HITPARKEDCAR, dtype: int64"
      ]
     },
     "execution_count": 42,
     "metadata": {},
     "output_type": "execute_result"
    }
   ],
   "source": [
    "df['HITPARKEDCAR'].value_counts()"
   ]
  },
  {
   "cell_type": "code",
   "execution_count": 45,
   "metadata": {},
   "outputs": [
    {
     "data": {
      "text/plain": [
       "       89343\n",
       "NEI    11779\n",
       "Name: EXCEPTRSNCODE, dtype: int64"
      ]
     },
     "execution_count": 45,
     "metadata": {},
     "output_type": "execute_result"
    }
   ],
   "source": [
    "df['EXCEPTRSNCODE'].value_counts()"
   ]
  },
  {
   "cell_type": "code",
   "execution_count": 43,
   "metadata": {},
   "outputs": [
    {
     "data": {
      "text/plain": [
       "Block           144999\n",
       "Intersection     71936\n",
       "Alley              878\n",
       "Name: ADDRTYPE, dtype: int64"
      ]
     },
     "execution_count": 43,
     "metadata": {},
     "output_type": "execute_result"
    }
   ],
   "source": [
    "df['ADDRTYPE'].value_counts()"
   ]
  },
  {
   "cell_type": "code",
   "execution_count": 44,
   "metadata": {},
   "outputs": [
    {
     "data": {
      "text/plain": [
       "BATTERY ST TUNNEL NB BETWEEN ALASKAN WY VI NB AND AURORA AVE N    298\n",
       "N NORTHGATE WAY BETWEEN MERIDIAN AVE N AND CORLISS AVE N          297\n",
       "BATTERY ST TUNNEL SB BETWEEN AURORA AVE N AND ALASKAN WY VI SB    291\n",
       "AURORA AVE N BETWEEN N 117TH PL AND N 125TH ST                    283\n",
       "6TH AVE AND JAMES ST                                              276\n",
       "                                                                 ... \n",
       "S MORGAN ST BETWEEN 44TH AVE S AND 45TH AVE S                       1\n",
       "GREENWOOD AVE N BETWEEN N 40TH N ST AND N 41ST ST                   1\n",
       "22ND AVE SW AND DELRIDGE WAY SW                                     1\n",
       "NW 43RD ST BETWEEN 2ND AVE NW AND BAKER AVE NW                      1\n",
       "SW WEBSTER ST BETWEEN DEAD END 7 AND CALIFORNIA AVE SW              1\n",
       "Name: LOCATION, Length: 25202, dtype: int64"
      ]
     },
     "execution_count": 44,
     "metadata": {},
     "output_type": "execute_result"
    }
   ],
   "source": [
    "df['LOCATION'].value_counts()"
   ]
  },
  {
   "cell_type": "code",
   "execution_count": 46,
   "metadata": {},
   "outputs": [
    {
     "data": {
      "text/plain": [
       "Mid-Block (not related to intersection)              101709\n",
       "At Intersection (intersection related)                69228\n",
       "Mid-Block (but intersection related)                  24410\n",
       "Driveway Junction                                     11496\n",
       "At Intersection (but not related to intersection)      2497\n",
       "Ramp Junction                                           190\n",
       "Unknown                                                  21\n",
       "Name: JUNCTIONTYPE, dtype: int64"
      ]
     },
     "execution_count": 46,
     "metadata": {},
     "output_type": "execute_result"
    }
   ],
   "source": [
    "df['JUNCTIONTYPE'].value_counts()"
   ]
  },
  {
   "cell_type": "code",
   "execution_count": 47,
   "metadata": {},
   "outputs": [
    {
     "data": {
      "text/plain": [
       "One parked--one moving                                                 44931\n",
       "Entering at angle                                                      35573\n",
       "From same direction - both going straight - one stopped - rear-end     26208\n",
       "Fixed object                                                           14165\n",
       "From same direction - both going straight - both moving - sideswipe    12964\n",
       "                                                                       ...  \n",
       "Railway Vehicle Strikes Pedalcyclist                                       3\n",
       "Vehicle Strikes All Other Non-Domestic Animal                              2\n",
       "Vehicle Strikes Deer                                                       1\n",
       "Non-domestic animal (deer, bear, elk, etc)                                 1\n",
       "Vehicle Hits State Road or Construction Machinery                          1\n",
       "Name: ST_COLDESC, Length: 62, dtype: int64"
      ]
     },
     "execution_count": 47,
     "metadata": {},
     "output_type": "execute_result"
    }
   ],
   "source": [
    "df['ST_COLDESC'].value_counts()"
   ]
  },
  {
   "cell_type": "code",
   "execution_count": 103,
   "metadata": {},
   "outputs": [],
   "source": [
    "columns = ['SEVERITYCODE','ADDRTYPE','LOCATION','COLLISIONTYPE',\n",
    "          'PERSONCOUNT','PEDCOUNT','PEDCYLCOUNT','VEHCOUNT',\n",
    "          'INJURIES','SERIOUSINJURIES','FATALITIES',\n",
    "          'JUNCTIONTYPE','SDOT_COLCODE','INATTENTIONIND',\n",
    "          'UNDERINFL','WEATHER','ROADCOND','LIGHTCOND',\n",
    "          'PEDROWNOTGRNT','SDOTCOLNUM','SPEEDING',\n",
    "           'ST_COLCODE','HITPARKEDCAR']"
   ]
  },
  {
   "cell_type": "code",
   "execution_count": 104,
   "metadata": {},
   "outputs": [],
   "source": [
    "raw_data = df[columns]"
   ]
  },
  {
   "cell_type": "code",
   "execution_count": 105,
   "metadata": {},
   "outputs": [
    {
     "data": {
      "text/plain": [
       "SEVERITYCODE        object\n",
       "ADDRTYPE            object\n",
       "LOCATION            object\n",
       "COLLISIONTYPE       object\n",
       "PERSONCOUNT          int64\n",
       "PEDCOUNT             int64\n",
       "PEDCYLCOUNT          int64\n",
       "VEHCOUNT             int64\n",
       "INJURIES             int64\n",
       "SERIOUSINJURIES      int64\n",
       "FATALITIES           int64\n",
       "JUNCTIONTYPE        object\n",
       "SDOT_COLCODE       float64\n",
       "INATTENTIONIND      object\n",
       "UNDERINFL           object\n",
       "WEATHER             object\n",
       "ROADCOND            object\n",
       "LIGHTCOND           object\n",
       "PEDROWNOTGRNT       object\n",
       "SDOTCOLNUM         float64\n",
       "SPEEDING            object\n",
       "ST_COLCODE          object\n",
       "HITPARKEDCAR        object\n",
       "dtype: object"
      ]
     },
     "execution_count": 105,
     "metadata": {},
     "output_type": "execute_result"
    }
   ],
   "source": [
    "raw_data.dtypes"
   ]
  },
  {
   "cell_type": "code",
   "execution_count": 162,
   "metadata": {},
   "outputs": [
    {
     "data": {
      "text/plain": [
       "(221524, 23)"
      ]
     },
     "execution_count": 162,
     "metadata": {},
     "output_type": "execute_result"
    }
   ],
   "source": [
    "# 删除标签为空的行\n",
    "raw_data = raw_data[~raw_data.SEVERITYCODE.isnull()]\n",
    "raw_data.shape"
   ]
  },
  {
   "cell_type": "code",
   "execution_count": 193,
   "metadata": {},
   "outputs": [],
   "source": [
    "raw_feature = raw_data.copy()"
   ]
  },
  {
   "cell_type": "code",
   "execution_count": 194,
   "metadata": {},
   "outputs": [
    {
     "name": "stdout",
     "output_type": "stream",
     "text": [
      "['ADDRTYPE', 'LOCATION', 'COLLISIONTYPE', 'JUNCTIONTYPE', 'INATTENTIONIND', 'UNDERINFL', 'WEATHER', 'ROADCOND', 'LIGHTCOND', 'PEDROWNOTGRNT', 'SPEEDING', 'ST_COLCODE', 'HITPARKEDCAR']\n",
      "['PERSONCOUNT', 'PEDCOUNT', 'PEDCYLCOUNT', 'VEHCOUNT', 'INJURIES', 'SERIOUSINJURIES', 'FATALITIES', 'SDOT_COLCODE', 'SDOTCOLNUM']\n",
      "SEVERITYCODE object 0\n",
      "ADDRTYPE object 0\n",
      "LOCATION object 0\n",
      "COLLISIONTYPE object 0\n",
      "PERSONCOUNT int64 0\n",
      "PEDCOUNT int64 0\n",
      "PEDCYLCOUNT int64 0\n",
      "VEHCOUNT int64 0\n",
      "INJURIES int64 0\n",
      "SERIOUSINJURIES int64 0\n",
      "FATALITIES int64 0\n",
      "JUNCTIONTYPE object 0\n",
      "SDOT_COLCODE float64 0\n",
      "INATTENTIONIND object 0\n",
      "UNDERINFL object 0\n",
      "WEATHER object 0\n",
      "ROADCOND object 0\n",
      "LIGHTCOND object 0\n",
      "PEDROWNOTGRNT object 0\n",
      "SDOTCOLNUM float64 0\n",
      "SPEEDING object 0\n",
      "ST_COLCODE object 0\n",
      "HITPARKEDCAR object 0\n"
     ]
    }
   ],
   "source": [
    "# 需要填充空值的字符类型的列\n",
    "category_columns = []\n",
    "numeric_columns = []\n",
    "\n",
    "for col in raw_feature.columns:\n",
    "    if raw_feature[col].dtypes == 'object':\n",
    "        category_columns.append(col)\n",
    "        raw_feature[col].fillna('', inplace=True)\n",
    "    else:\n",
    "        numeric_columns.append(col)\n",
    "        raw_feature[col].fillna(0, inplace=True)\n",
    "\n",
    "category_columns = category_columns[1:]\n",
    "\n",
    "print(category_columns)        \n",
    "print(numeric_columns)\n",
    "\n",
    "raw_feature['SDOT_COLCODE'].fillna(0, inplace=True)\n",
    "raw_feature['SDOTCOLNUM'].fillna(0, inplace=True)\n",
    "\n",
    "# 缺失值统计\n",
    "for col in raw_feature.columns:\n",
    "    print(col, raw_feature[col].dtypes, raw_feature[col].isnull().sum())\n",
    "\n"
   ]
  },
  {
   "cell_type": "code",
   "execution_count": 195,
   "metadata": {},
   "outputs": [
    {
     "name": "stdout",
     "output_type": "stream",
     "text": [
      "N    211895\n",
      "Y      9629\n",
      "Name: UNDERINFL, dtype: int64\n"
     ]
    }
   ],
   "source": [
    "# 重复值处理\n",
    "\n",
    "def deal_underinfl(x):\n",
    "    if x == '0' or x == '':\n",
    "        return 'N'\n",
    "    if x == '1':\n",
    "        return 'Y'\n",
    "    return x\n",
    "    \n",
    "# print(df['UNDERINFL'].value_counts())\n",
    "# print(raw_feature['UNDERINFL'].value_counts())\n",
    "raw_feature['UNDERINFL'] = raw_feature['UNDERINFL'].apply(deal_underinfl)\n",
    "print(raw_feature['UNDERINFL'].value_counts())\n",
    "# r.value_counts()\n",
    "\n",
    "# 类型转换\n",
    "raw_feature['SDOT_COLCODE'] = raw_feature['SDOT_COLCODE'].astype('int')\n",
    "raw_feature['SDOTCOLNUM'] = raw_feature['SDOTCOLNUM'].astype('int')\n"
   ]
  },
  {
   "cell_type": "code",
   "execution_count": 196,
   "metadata": {},
   "outputs": [
    {
     "name": "stdout",
     "output_type": "stream",
     "text": [
      "<class 'float'>\n",
      "['45', '0', '10', '', '28', '71', '14', '15', '19', '23', '26', '50', '21', '32', '2', '13', '11', '12', '6', '22', '74', '1', '16', '51', '20', '81', '30', '56', '3', '5', '52', '4', '7', '18', '40', '83', '66', '25', '57', '72', '41', '24', '53', '29', '27', '73', '17', '65', '82', '49', '67', '84', '31', '42', '48', '43', '64', '54', '60', '87', '8', '85', '88']\n"
     ]
    }
   ],
   "source": [
    "raw_feature['ST_COLCODE'].unique().tolist()\n",
    "print(type(45.0))\n",
    "\n",
    "def del_st_colcode(x):\n",
    "    if x == ' ':\n",
    "        return ''\n",
    "    if isinstance(x, float):\n",
    "        return str(int(x))\n",
    "    return x\n",
    "\n",
    "raw_feature['ST_COLCODE'] = raw_feature['ST_COLCODE'].apply(del_st_colcode)\n",
    "print(raw_feature['ST_COLCODE'].unique().tolist())"
   ]
  },
  {
   "cell_type": "code",
   "execution_count": 197,
   "metadata": {},
   "outputs": [],
   "source": [
    "y = raw_feature['SEVERITYCODE'].values"
   ]
  },
  {
   "cell_type": "code",
   "execution_count": 199,
   "metadata": {},
   "outputs": [
    {
     "name": "stdout",
     "output_type": "stream",
     "text": [
      "['45' '0' '10' '' '']\n",
      "32    44931\n",
      "10    35573\n",
      "      26312\n",
      "14    26208\n",
      "50    14165\n",
      "      ...  \n",
      "43        3\n",
      "87        2\n",
      "49        1\n",
      "60        1\n",
      "85        1\n",
      "Name: ST_COLCODE, Length: 63, dtype: int64\n",
      "['45', '0', '10', '', '28', '71', '14', '15', '19', '23', '26', '50', '21', '32', '2', '13', '11', '12', '6', '22', '74', '1', '16', '51', '20', '81', '30', '56', '3', '5', '52', '4', '7', '18', '40', '83', '66', '25', '57', '72', '41', '24', '53', '29', '27', '73', '17', '65', '82', '49', '67', '84', '31', '42', '48', '43', '64', '54', '60', '87', '8', '85', '88']\n",
      "[33 1 3 0 0]\n"
     ]
    }
   ],
   "source": [
    "# label encoder\n",
    "from sklearn.preprocessing import LabelEncoder\n",
    "\n",
    "def label_encoder(col):\n",
    "\n",
    "    c = raw_feature[category_columns].values\n",
    "    print(c[:5, col])\n",
    "\n",
    "    print(raw_feature[category_columns[col]].value_counts())\n",
    "    category_list = raw_feature[category_columns[col]].unique().tolist()\n",
    "    print(category_list)\n",
    "\n",
    "    le = LabelEncoder()\n",
    "    c[:, col] = le.fit(category_list).transform(c[:,col])\n",
    "    print(c[:5, col])\n",
    "\n",
    "label_encoder(11)\n"
   ]
  },
  {
   "cell_type": "code",
   "execution_count": 200,
   "metadata": {},
   "outputs": [
    {
     "name": "stdout",
     "output_type": "stream",
     "text": [
      "i: 0 col: ADDRTYPE\n",
      "i: 1 col: LOCATION\n",
      "i: 2 col: COLLISIONTYPE\n",
      "i: 3 col: JUNCTIONTYPE\n",
      "i: 4 col: INATTENTIONIND\n",
      "i: 5 col: UNDERINFL\n",
      "i: 6 col: WEATHER\n",
      "i: 7 col: ROADCOND\n",
      "i: 8 col: LIGHTCOND\n",
      "i: 9 col: PEDROWNOTGRNT\n",
      "i: 10 col: SPEEDING\n",
      "i: 11 col: ST_COLCODE\n",
      "i: 12 col: HITPARKEDCAR\n",
      "[[2 11154 2 3 0 0 3 1 6 1 0 33 0]\n",
      " [2 6298 7 5 0 0 6 1 3 0 0 1 0]\n",
      " [3 7091 1 2 0 0 6 9 6 0 0 3 0]\n",
      " [3 16055 0 2 0 0 0 0 0 0 0 0 0]\n",
      " [2 24322 0 5 0 0 0 0 0 0 0 0 0]]\n"
     ]
    }
   ],
   "source": [
    "X_category = raw_feature[category_columns].values\n",
    "\n",
    "for i, col in enumerate(category_columns):\n",
    "    print('i:', i, 'col:', col)\n",
    "    le = LabelEncoder()\n",
    "    le.fit(raw_feature[category_columns[i]].unique().tolist())\n",
    "    X_category[:,i] = le.transform(X_category[:,i])\n",
    "    \n",
    "print(X_category[:5])"
   ]
  },
  {
   "cell_type": "code",
   "execution_count": 201,
   "metadata": {},
   "outputs": [],
   "source": [
    "X_numeric = raw_feature[numeric_columns].values"
   ]
  },
  {
   "cell_type": "code",
   "execution_count": 206,
   "metadata": {},
   "outputs": [
    {
     "name": "stdout",
     "output_type": "stream",
     "text": [
      "(221524, 13)\n",
      "(221524, 9)\n",
      "(221524,)\n",
      "(221524, 22)\n"
     ]
    }
   ],
   "source": [
    "import numpy as np\n",
    "\n",
    "print(X_category.shape)\n",
    "print(X_numeric.shape)\n",
    "print(y.shape)\n",
    "\n",
    "X = np.append(X_category, X_numeric, axis=1)\n",
    "print(X.shape)"
   ]
  },
  {
   "cell_type": "code",
   "execution_count": 207,
   "metadata": {},
   "outputs": [],
   "source": [
    "# 拆分训练和测试集数据\n",
    "from sklearn.model_selection import train_test_split\n",
    "\n",
    "X_train, X_test, y_train, y_test = train_test_split(X, y, test_size=0.3, random_state=3)"
   ]
  },
  {
   "cell_type": "code",
   "execution_count": 208,
   "metadata": {},
   "outputs": [
    {
     "name": "stdout",
     "output_type": "stream",
     "text": [
      "(155066, 22) (155066,)\n",
      "(66458, 22) (66458,)\n"
     ]
    }
   ],
   "source": [
    "print(X_train.shape, y_train.shape)\n",
    "print(X_test.shape, y_test.shape)"
   ]
  },
  {
   "cell_type": "code",
   "execution_count": 212,
   "metadata": {},
   "outputs": [
    {
     "data": {
      "text/plain": [
       "DecisionTreeClassifier(criterion='entropy', max_depth=4)"
      ]
     },
     "execution_count": 212,
     "metadata": {},
     "output_type": "execute_result"
    }
   ],
   "source": [
    "# 构建决策树模型\n",
    "from sklearn.tree import DecisionTreeClassifier\n",
    "\n",
    "model_tree = DecisionTreeClassifier(criterion=\"entropy\", max_depth=4)\n",
    "model_tree.fit(X_train, y_train)"
   ]
  },
  {
   "cell_type": "code",
   "execution_count": 213,
   "metadata": {},
   "outputs": [
    {
     "name": "stdout",
     "output_type": "stream",
     "text": [
      "['1' '2' '1' '1' '1']\n",
      "['1' '2' '0' '1' '1']\n"
     ]
    }
   ],
   "source": [
    "yhat_tree = model_tree.predict(X_test)\n",
    "print(yhat_tree[0:5])\n",
    "print(y_test[0:5])"
   ]
  },
  {
   "cell_type": "code",
   "execution_count": 214,
   "metadata": {},
   "outputs": [
    {
     "name": "stdout",
     "output_type": "stream",
     "text": [
      "DecisionTrees's Accuracy:  0.9930482409943122\n"
     ]
    }
   ],
   "source": [
    "# 模型评估\n",
    "from sklearn import metrics\n",
    "\n",
    "print(\"DecisionTrees's Accuracy: \", metrics.accuracy_score(y_test, yhat_tree))"
   ]
  },
  {
   "cell_type": "code",
   "execution_count": 263,
   "metadata": {},
   "outputs": [
    {
     "name": "stdout",
     "output_type": "stream",
     "text": [
      "depth: 3 acc: 0.9895874085888832\n",
      "depth: 4 acc: 0.9930482409943122\n",
      "depth: 5 acc: 0.9949893165608354\n",
      "depth: 6 acc: 0.9954858707755274\n",
      "depth: 7 acc: 0.9954708236781125\n",
      "depth: 8 acc: 0.9956062475548467\n",
      "depth: 9 acc: 0.9958169069186554\n",
      "depth: 10 acc: 0.995877095308315\n",
      "depth: 11 acc: 0.9958470011134852\n",
      "depth: 12 acc: 0.9957717656264107\n",
      "depth: 13 acc: 0.9956363417496765\n",
      "depth: 14 acc: 0.9954858707755274\n",
      "depth: 15 acc: 0.9954557765806976\n",
      "depth: 16 acc: 0.9954106352884529\n",
      "depth: 17 acc: 0.9952752114117187\n",
      "depth: 18 acc: 0.9950795991453248\n",
      "depth: 19 acc: 0.9950344578530801\n"
     ]
    }
   ],
   "source": [
    "from sklearn.tree import DecisionTreeClassifier\n",
    "from sklearn import metrics\n",
    "\n",
    "depth_arr = []\n",
    "accuracy_arr = []\n",
    "\n",
    "depthes = 20\n",
    "for d in range(3, depthes):\n",
    "    model_tree = DecisionTreeClassifier(criterion=\"entropy\", max_depth=d)\n",
    "    model_tree.fit(X_train, y_train)\n",
    "    yhat_tree = model_tree.predict(X_test)\n",
    "    acc = metrics.accuracy_score(y_test, yhat_tree)\n",
    "    print('depth:', d, 'acc:', acc)\n",
    "    depth_arr.append(d)    \n",
    "    accuracy_arr.append(acc)\n"
   ]
  },
  {
   "cell_type": "code",
   "execution_count": 264,
   "metadata": {},
   "outputs": [
    {
     "name": "stdout",
     "output_type": "stream",
     "text": [
      "7\n",
      "10 0.995877095308315\n"
     ]
    }
   ],
   "source": [
    "ind = np.argmax(accuracy_arr)\n",
    "print(ind)\n",
    "print(depth_arr[ind], accuracy_arr[ind])"
   ]
  },
  {
   "cell_type": "code",
   "execution_count": 215,
   "metadata": {},
   "outputs": [],
   "source": [
    "from six import StringIO\n",
    "import pydotplus\n",
    "import matplotlib.image as mpimg\n",
    "from sklearn import tree\n",
    "%matplotlib inline "
   ]
  },
  {
   "cell_type": "code",
   "execution_count": 232,
   "metadata": {},
   "outputs": [],
   "source": [
    "dot_data = StringIO()\n",
    "\n",
    "filename = \"./data/tree.png\"\n",
    "featureNames = raw_feature.columns[1:]\n",
    "targetNames = raw_feature[\"SEVERITYCODE\"].unique().tolist()\n",
    "\n",
    "out = tree.export_graphviz(model_tree, feature_names=featureNames, \n",
    "                         out_file=dot_data, class_names=np.unique(y_train), \n",
    "                         filled=True, special_characters=True, rotate=False)  \n",
    "\n",
    "graph = pydotplus.graph_from_dot_data(dot_data.getvalue())  \n",
    "# graph.write_png(filename)\n",
    "\n",
    "# img = mpimg.imread(filename)\n",
    "# plt.figure(figsize=(100, 200))\n",
    "# plt.imshow(img, interpolation='nearest')"
   ]
  },
  {
   "cell_type": "code",
   "execution_count": 233,
   "metadata": {},
   "outputs": [],
   "source": [
    "from sklearn.metrics import classification_report, confusion_matrix\n",
    "import itertools"
   ]
  },
  {
   "cell_type": "code",
   "execution_count": 234,
   "metadata": {},
   "outputs": [],
   "source": [
    "def plot_confusion_matrix(cm, classes,\n",
    "                          normalize=False,\n",
    "                          title='Confusion matrix',\n",
    "                          cmap=plt.cm.Blues):\n",
    "    \"\"\"\n",
    "    This function prints and plots the confusion matrix.\n",
    "    Normalization can be applied by setting `normalize=True`.\n",
    "    \"\"\"\n",
    "    if normalize:\n",
    "        cm = cm.astype('float') / cm.sum(axis=1)[:, np.newaxis]\n",
    "        print(\"Normalized confusion matrix\")\n",
    "    else:\n",
    "        print('Confusion matrix, without normalization')\n",
    "\n",
    "    print(cm)\n",
    "\n",
    "    plt.imshow(cm, interpolation='nearest', cmap=cmap)\n",
    "    plt.title(title)\n",
    "    plt.colorbar()\n",
    "    tick_marks = np.arange(len(classes))\n",
    "    plt.xticks(tick_marks, classes, rotation=45)\n",
    "    plt.yticks(tick_marks, classes)\n",
    "\n",
    "    fmt = '.2f' if normalize else 'd'\n",
    "    thresh = cm.max() / 2.\n",
    "    for i, j in itertools.product(range(cm.shape[0]), range(cm.shape[1])):\n",
    "        plt.text(j, i, format(cm[i, j], fmt),\n",
    "                 horizontalalignment=\"center\",\n",
    "                 color=\"white\" if cm[i, j] > thresh else \"black\")\n",
    "\n",
    "    plt.tight_layout()\n",
    "    plt.ylabel('True label')\n",
    "    plt.xlabel('Predicted label')"
   ]
  },
  {
   "cell_type": "code",
   "execution_count": 251,
   "metadata": {},
   "outputs": [
    {
     "name": "stdout",
     "output_type": "stream",
     "text": [
      "['Injury Collision', 'Property Damage Only Collision', 'Unknown', 'Fatality Collision', 'Serious Injury Collision']\n",
      "['2', '1', '0', '3', '2b']\n",
      "['Injury', 'Property Damage', 'Unknown', 'Fatality', 'Serious Injury']\n",
      "              precision    recall  f1-score   support\n",
      "\n",
      "           0       0.99      0.95      0.97      6550\n",
      "           1       0.99      1.00      0.99     41074\n",
      "           2       1.00      1.00      1.00     17781\n",
      "          2b       1.00      0.98      0.99       937\n",
      "           3       1.00      0.99      1.00       116\n",
      "\n",
      "    accuracy                           0.99     66458\n",
      "   macro avg       1.00      0.98      0.99     66458\n",
      "weighted avg       0.99      0.99      0.99     66458\n",
      "\n",
      "Confusion matrix, without normalization\n",
      "[[17781     0     0     0     0]\n",
      " [    0 40983    91     0     0]\n",
      " [    0   355  6195     0     0]\n",
      " [    0     1     0   115     0]\n",
      " [   15     0     0     0   922]]\n"
     ]
    },
    {
     "data": {
      "image/png": "[encoded data removed]",
      "text/plain": [
       "<Figure size 576x432 with 2 Axes>"
      ]
     },
     "metadata": {
      "needs_background": "light"
     },
     "output_type": "display_data"
    }
   ],
   "source": [
    "labels = df['SEVERITYCODE'].unique().tolist()\n",
    "classes = df['SEVERITYDESC'].unique().tolist()\n",
    "print(classes)\n",
    "\n",
    "labels = ['2', '1', '0', '3', '2b']\n",
    "classes = ['Injury', 'Property Damage', 'Unknown', 'Fatality', 'Serious Injury']\n",
    "print(labels)\n",
    "print(classes)\n",
    "\n",
    "# Compute confusion matrix\n",
    "cnf_matrix = confusion_matrix(y_test, yhat_tree, labels=labels)\n",
    "np.set_printoptions(precision=2)\n",
    "\n",
    "print(classification_report(y_test, yhat_tree))\n",
    "\n",
    "# Plot non-normalized confusion matrix\n",
    "plt.figure(figsize=(8,6))\n",
    "plot_confusion_matrix(cnf_matrix, classes=classes,\n",
    "                      normalize=False,  title='Confusion matrix')"
   ]
  },
  {
   "cell_type": "code",
   "execution_count": null,
   "metadata": {},
   "outputs": [],
   "source": []
  }
 ],
 "metadata": {
  "kernelspec": {
   "display_name": "Python 3",
   "language": "python",
   "name": "python3"
  },
  "language_info": {
   "codemirror_mode": {
    "name": "ipython",
    "version": 3
   },
   "file_extension": ".py",
   "mimetype": "text/x-python",
   "name": "python",
   "nbconvert_exporter": "python",
   "pygments_lexer": "ipython3",
   "version": "3.7.7"
  }
 },
 "nbformat": 4,
 "nbformat_minor": 4
}
