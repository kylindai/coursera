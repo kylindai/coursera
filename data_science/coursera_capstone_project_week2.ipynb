{
 "cells": [
  {
   "cell_type": "markdown",
   "metadata": {},
   "source": [
    "# Capstone Project - Car Accident Severity Prediction (Week 2)"
   ]
  },
  {
   "cell_type": "markdown",
   "metadata": {},
   "source": [
    "## Table of contents\n",
    "* [Introduction: Business Problem](#introduction)\n",
    "* [Data](#data)\n",
    "* [Methodology](#methodology)\n",
    "* [Analysis](#analysis)\n",
    "* [Results and Discussion](#results)\n",
    "* [Conclusion](#conclusion)"
   ]
  },
  {
   "cell_type": "markdown",
   "metadata": {},
   "source": [
    "## Introduction: Business Problem <a name=\"introduction\"></a>"
   ]
  },
  {
   "cell_type": "markdown",
   "metadata": {},
   "source": [
    "### Backgroud\n",
    "\n",
    "The World Health Organization describes the road traffic system as the most complex and the most dangerous system with which people have to deal every day. In the last few years, the number of road traffic deaths in the world climbed, reaching 1.35 million in 2016. More particularly in Seattle City, 375 people were killed since 2004, more than a thousand were seriously injured and tens of thousands have suffered small injuries.\n",
    "\n",
    "Meanwhile, Big Data Analytics has emerged in the last decade as a set of techniques allowing data scientists to extract meaningful information from large amounts of complex and heterogeneous data. In the context of accident prediction, such techniques provide insights on the conditions leading to an increased risk of road accidents, which in return, can be used to develop traffic-related policies and prevention operations."
   ]
  },
  {
   "cell_type": "markdown",
   "metadata": {},
   "source": [
    "### Problem\n",
    "\n",
    "Collision severity is the quantification of the intensity of an impact. In traffic accident reconstruction, the impact of interest is typically between two vehicles (e.g. automobile, truck, bus, motorcycle, or bicycle), between a vehicle occupant and the vehicle interior, between a vehicle and pedestrian, or between a vehicle and a fixed object (e.g. building, wall, tree, rock, or other landscape feature).\n",
    "\n",
    "The significance of determining collision severity in an accident reconstruction is that it is an indicator of the probability of injury. Clearly, the higher the severity level or the greater the accelerations that are involved in a traffic collision, the greater the chances are that an injury will occur. The response of the human body when subjected to a collision with a quantified severity level and principal direction of force forms the bases for biomechanical analyses and occupant protection system performance in a motor vehicle collision.\n",
    "\n",
    "This project we are going to to build a model to predition the severity of collisions, this is a classification problem."
   ]
  },
  {
   "cell_type": "markdown",
   "metadata": {},
   "source": [
    "## Data <a name=\"data\"></a>"
   ]
  },
  {
   "cell_type": "markdown",
   "metadata": {},
   "source": [
    "Based on definition of our problem, factors that will influence our decission are:\n",
    "* collision type\n",
    "* number of people, bicycles, vehicles involved in collisions\n",
    "* number of injuries, fatalities in collisions\n",
    "* road condition, light condition\n",
    "* influence of drugs or alcohol and so on\n",
    "* speeding or hit parked cars\n",
    "* address and location collisions occurred"
   ]
  },
  {
   "cell_type": "markdown",
   "metadata": {},
   "source": [
    "### Data source\n",
    "\n",
    "We get the data of collisions from the government website of The Seattle City, updated at October 3, 2020  \n",
    "https://data.seattle.gov/Land-Base/Collisions/9kas-rb8d"
   ]
  },
  {
   "cell_type": "markdown",
   "metadata": {},
   "source": [
    "### Data summary\n",
    "\n",
    "This includes all types of collisions. Collisions will display at the intersection or mid-block of a segment. Timeframe: 2004 to Present.\n",
    "\n",
    "There is the data attributes information:   https://www.seattle.gov/Documents/Departments/SDOT/GIS/Collisions_OD.pdf"
   ]
  },
  {
   "cell_type": "code",
   "execution_count": 1,
   "metadata": {},
   "outputs": [],
   "source": [
    "import numpy as np\n",
    "import pandas as pd\n",
    "\n",
    "import seaborn as sns\n",
    "import matplotlib as mpl\n",
    "import matplotlib.pyplot as plt\n",
    "%matplotlib inline\n",
    "\n",
    "# ignore warning\n",
    "import warnings\n",
    "warnings.filterwarnings(\"ignore\")"
   ]
  },
  {
   "cell_type": "code",
   "execution_count": 2,
   "metadata": {},
   "outputs": [
    {
     "data": {
      "text/plain": [
       "(221525, 40)"
      ]
     },
     "execution_count": 2,
     "metadata": {},
     "output_type": "execute_result"
    }
   ],
   "source": [
    "# download dataset\n",
    "# wget -O ./data/Collisions.csv http://data-seattlecitygis.opendata.arcgis.com/datasets/5b5c745e0f1f48e7a53acec63a0022ab_0.csv\n",
    "\n",
    "# load dataset\n",
    "df = pd.read_csv('./data/Collisions.csv')\n",
    "\n",
    "# shape of the dataset\n",
    "df.shape"
   ]
  },
  {
   "cell_type": "markdown",
   "metadata": {},
   "source": [
    "There are 221525 rows and 40 columns in this data of Seattle Collision Accident."
   ]
  },
  {
   "cell_type": "code",
   "execution_count": 3,
   "metadata": {},
   "outputs": [
    {
     "data": {
      "text/plain": [
       "X                  float64\n",
       "Y                  float64\n",
       "OBJECTID             int64\n",
       "INCKEY               int64\n",
       "COLDETKEY            int64\n",
       "REPORTNO            object\n",
       "STATUS              object\n",
       "ADDRTYPE            object\n",
       "INTKEY             float64\n",
       "LOCATION            object\n",
       "EXCEPTRSNCODE       object\n",
       "EXCEPTRSNDESC       object\n",
       "SEVERITYCODE        object\n",
       "SEVERITYDESC        object\n",
       "COLLISIONTYPE       object\n",
       "PERSONCOUNT          int64\n",
       "PEDCOUNT             int64\n",
       "PEDCYLCOUNT          int64\n",
       "VEHCOUNT             int64\n",
       "INJURIES             int64\n",
       "SERIOUSINJURIES      int64\n",
       "FATALITIES           int64\n",
       "INCDATE             object\n",
       "INCDTTM             object\n",
       "JUNCTIONTYPE        object\n",
       "SDOT_COLCODE       float64\n",
       "SDOT_COLDESC        object\n",
       "INATTENTIONIND      object\n",
       "UNDERINFL           object\n",
       "WEATHER             object\n",
       "ROADCOND            object\n",
       "LIGHTCOND           object\n",
       "PEDROWNOTGRNT       object\n",
       "SDOTCOLNUM         float64\n",
       "SPEEDING            object\n",
       "ST_COLCODE          object\n",
       "ST_COLDESC          object\n",
       "SEGLANEKEY           int64\n",
       "CROSSWALKKEY         int64\n",
       "HITPARKEDCAR        object\n",
       "dtype: object"
      ]
     },
     "execution_count": 3,
     "metadata": {},
     "output_type": "execute_result"
    }
   ],
   "source": [
    "# columns and types\n",
    "df.dtypes"
   ]
  },
  {
   "cell_type": "markdown",
   "metadata": {},
   "source": [
    "There are about 40 attributes of our collison dataset. Let's have a look at it."
   ]
  },
  {
   "cell_type": "code",
   "execution_count": 4,
   "metadata": {},
   "outputs": [
    {
     "data": {
      "text/html": [
       "<div>\n",
       "<style scoped>\n",
       "    .dataframe tbody tr th:only-of-type {\n",
       "        vertical-align: middle;\n",
       "    }\n",
       "\n",
       "    .dataframe tbody tr th {\n",
       "        vertical-align: top;\n",
       "    }\n",
       "\n",
       "    .dataframe thead th {\n",
       "        text-align: right;\n",
       "    }\n",
       "</style>\n",
       "<table border=\"1\" class=\"dataframe\">\n",
       "  <thead>\n",
       "    <tr style=\"text-align: right;\">\n",
       "      <th></th>\n",
       "      <th>X</th>\n",
       "      <th>Y</th>\n",
       "      <th>OBJECTID</th>\n",
       "      <th>INCKEY</th>\n",
       "      <th>COLDETKEY</th>\n",
       "      <th>REPORTNO</th>\n",
       "      <th>STATUS</th>\n",
       "      <th>ADDRTYPE</th>\n",
       "      <th>INTKEY</th>\n",
       "      <th>LOCATION</th>\n",
       "      <th>...</th>\n",
       "      <th>ROADCOND</th>\n",
       "      <th>LIGHTCOND</th>\n",
       "      <th>PEDROWNOTGRNT</th>\n",
       "      <th>SDOTCOLNUM</th>\n",
       "      <th>SPEEDING</th>\n",
       "      <th>ST_COLCODE</th>\n",
       "      <th>ST_COLDESC</th>\n",
       "      <th>SEGLANEKEY</th>\n",
       "      <th>CROSSWALKKEY</th>\n",
       "      <th>HITPARKEDCAR</th>\n",
       "    </tr>\n",
       "  </thead>\n",
       "  <tbody>\n",
       "    <tr>\n",
       "      <th>0</th>\n",
       "      <td>1.268354e+06</td>\n",
       "      <td>265256.609668</td>\n",
       "      <td>1</td>\n",
       "      <td>1003</td>\n",
       "      <td>1003</td>\n",
       "      <td>3503158</td>\n",
       "      <td>Matched</td>\n",
       "      <td>Block</td>\n",
       "      <td>NaN</td>\n",
       "      <td>AURORA AVE N BETWEEN N 117TH PL AND N 125TH ST</td>\n",
       "      <td>...</td>\n",
       "      <td>Dry</td>\n",
       "      <td>Daylight</td>\n",
       "      <td>Y</td>\n",
       "      <td>NaN</td>\n",
       "      <td>NaN</td>\n",
       "      <td>45</td>\n",
       "      <td>Vehicle - Pedalcyclist</td>\n",
       "      <td>15057</td>\n",
       "      <td>0</td>\n",
       "      <td>N</td>\n",
       "    </tr>\n",
       "    <tr>\n",
       "      <th>1</th>\n",
       "      <td>1.259316e+06</td>\n",
       "      <td>202173.388163</td>\n",
       "      <td>2</td>\n",
       "      <td>56200</td>\n",
       "      <td>56200</td>\n",
       "      <td>1795087</td>\n",
       "      <td>Matched</td>\n",
       "      <td>Block</td>\n",
       "      <td>NaN</td>\n",
       "      <td>35TH AVE SW BETWEEN SW MORGAN ST AND SW HOLLY ST</td>\n",
       "      <td>...</td>\n",
       "      <td>Dry</td>\n",
       "      <td>Dark - Street Lights On</td>\n",
       "      <td>NaN</td>\n",
       "      <td>6015003.0</td>\n",
       "      <td>NaN</td>\n",
       "      <td>0</td>\n",
       "      <td>Vehicle going straight hits pedestrian</td>\n",
       "      <td>0</td>\n",
       "      <td>0</td>\n",
       "      <td>N</td>\n",
       "    </tr>\n",
       "    <tr>\n",
       "      <th>2</th>\n",
       "      <td>1.264342e+06</td>\n",
       "      <td>259613.000382</td>\n",
       "      <td>3</td>\n",
       "      <td>327037</td>\n",
       "      <td>328537</td>\n",
       "      <td>E979380</td>\n",
       "      <td>Matched</td>\n",
       "      <td>Intersection</td>\n",
       "      <td>37122.0</td>\n",
       "      <td>3RD AVE NW AND NW 100TH ST</td>\n",
       "      <td>...</td>\n",
       "      <td>Wet</td>\n",
       "      <td>Daylight</td>\n",
       "      <td>NaN</td>\n",
       "      <td>NaN</td>\n",
       "      <td>NaN</td>\n",
       "      <td>10</td>\n",
       "      <td>Entering at angle</td>\n",
       "      <td>0</td>\n",
       "      <td>0</td>\n",
       "      <td>N</td>\n",
       "    </tr>\n",
       "    <tr>\n",
       "      <th>3</th>\n",
       "      <td>1.279221e+06</td>\n",
       "      <td>222017.872023</td>\n",
       "      <td>4</td>\n",
       "      <td>327278</td>\n",
       "      <td>328778</td>\n",
       "      <td>E996362</td>\n",
       "      <td>Unmatched</td>\n",
       "      <td>Intersection</td>\n",
       "      <td>30602.0</td>\n",
       "      <td>M L KING JR WAY S AND S JACKSON ST</td>\n",
       "      <td>...</td>\n",
       "      <td>NaN</td>\n",
       "      <td>NaN</td>\n",
       "      <td>NaN</td>\n",
       "      <td>NaN</td>\n",
       "      <td>NaN</td>\n",
       "      <td></td>\n",
       "      <td>NaN</td>\n",
       "      <td>0</td>\n",
       "      <td>0</td>\n",
       "      <td>N</td>\n",
       "    </tr>\n",
       "    <tr>\n",
       "      <th>4</th>\n",
       "      <td>1.262205e+06</td>\n",
       "      <td>242179.124204</td>\n",
       "      <td>5</td>\n",
       "      <td>1248</td>\n",
       "      <td>1248</td>\n",
       "      <td>3645424</td>\n",
       "      <td>Unmatched</td>\n",
       "      <td>Block</td>\n",
       "      <td>NaN</td>\n",
       "      <td>W EWING ST BETWEEN 6TH AVE W AND W EWING PL</td>\n",
       "      <td>...</td>\n",
       "      <td>NaN</td>\n",
       "      <td>NaN</td>\n",
       "      <td>NaN</td>\n",
       "      <td>NaN</td>\n",
       "      <td>NaN</td>\n",
       "      <td></td>\n",
       "      <td>NaN</td>\n",
       "      <td>0</td>\n",
       "      <td>0</td>\n",
       "      <td>N</td>\n",
       "    </tr>\n",
       "  </tbody>\n",
       "</table>\n",
       "<p>5 rows × 40 columns</p>\n",
       "</div>"
      ],
      "text/plain": [
       "              X              Y  OBJECTID  INCKEY  COLDETKEY REPORTNO  \\\n",
       "0  1.268354e+06  265256.609668         1    1003       1003  3503158   \n",
       "1  1.259316e+06  202173.388163         2   56200      56200  1795087   \n",
       "2  1.264342e+06  259613.000382         3  327037     328537  E979380   \n",
       "3  1.279221e+06  222017.872023         4  327278     328778  E996362   \n",
       "4  1.262205e+06  242179.124204         5    1248       1248  3645424   \n",
       "\n",
       "      STATUS      ADDRTYPE   INTKEY  \\\n",
       "0    Matched         Block      NaN   \n",
       "1    Matched         Block      NaN   \n",
       "2    Matched  Intersection  37122.0   \n",
       "3  Unmatched  Intersection  30602.0   \n",
       "4  Unmatched         Block      NaN   \n",
       "\n",
       "                                           LOCATION  ... ROADCOND  \\\n",
       "0    AURORA AVE N BETWEEN N 117TH PL AND N 125TH ST  ...      Dry   \n",
       "1  35TH AVE SW BETWEEN SW MORGAN ST AND SW HOLLY ST  ...      Dry   \n",
       "2                        3RD AVE NW AND NW 100TH ST  ...      Wet   \n",
       "3                M L KING JR WAY S AND S JACKSON ST  ...      NaN   \n",
       "4       W EWING ST BETWEEN 6TH AVE W AND W EWING PL  ...      NaN   \n",
       "\n",
       "                 LIGHTCOND PEDROWNOTGRNT SDOTCOLNUM SPEEDING  ST_COLCODE  \\\n",
       "0                 Daylight             Y        NaN      NaN          45   \n",
       "1  Dark - Street Lights On           NaN  6015003.0      NaN           0   \n",
       "2                 Daylight           NaN        NaN      NaN          10   \n",
       "3                      NaN           NaN        NaN      NaN               \n",
       "4                      NaN           NaN        NaN      NaN               \n",
       "\n",
       "                               ST_COLDESC  SEGLANEKEY  CROSSWALKKEY  \\\n",
       "0                  Vehicle - Pedalcyclist       15057             0   \n",
       "1  Vehicle going straight hits pedestrian           0             0   \n",
       "2                       Entering at angle           0             0   \n",
       "3                                     NaN           0             0   \n",
       "4                                     NaN           0             0   \n",
       "\n",
       "   HITPARKEDCAR  \n",
       "0             N  \n",
       "1             N  \n",
       "2             N  \n",
       "3             N  \n",
       "4             N  \n",
       "\n",
       "[5 rows x 40 columns]"
      ]
     },
     "execution_count": 4,
     "metadata": {},
     "output_type": "execute_result"
    }
   ],
   "source": [
    "df.head()"
   ]
  },
  {
   "cell_type": "markdown",
   "metadata": {},
   "source": [
    "### Target label summary"
   ]
  },
  {
   "cell_type": "markdown",
   "metadata": {},
   "source": [
    "The target label is the SEVERITYCODE column, and the SEVERITYDESC column is of it's description, but we can not use them as features for our prediction, it is the target of our model to study."
   ]
  },
  {
   "cell_type": "code",
   "execution_count": 5,
   "metadata": {},
   "outputs": [
    {
     "name": "stdout",
     "output_type": "stream",
     "text": [
      "['2', '1', '0', '3', '2b', nan]\n",
      "['Injury Collision', 'Property Damage Only Collision', 'Unknown', 'Fatality Collision', 'Serious Injury Collision']\n",
      "1     137671\n",
      "2      58783\n",
      "0      21615\n",
      "2b      3105\n",
      "3        350\n",
      "Name: SEVERITYCODE, dtype: int64\n"
     ]
    }
   ],
   "source": [
    "# summary of the label column\n",
    "print(df['SEVERITYCODE'].unique().tolist())\n",
    "print(df['SEVERITYDESC'].unique().tolist())\n",
    "print(df['SEVERITYCODE'].value_counts())"
   ]
  },
  {
   "cell_type": "markdown",
   "metadata": {},
   "source": [
    "We find there is a NaN value in our label column, we will fix it later."
   ]
  },
  {
   "cell_type": "markdown",
   "metadata": {},
   "source": [
    "## Methodology <a name=\"methodology\"></a>"
   ]
  },
  {
   "cell_type": "markdown",
   "metadata": {},
   "source": [
    "Follow Cross-industry standard process for data mining: CRISP-DM, we should do:\n",
    "* business understanding\n",
    "* data understanding\n",
    "* data preparation\n",
    "* modeling\n",
    "* evaluation"
   ]
  },
  {
   "cell_type": "markdown",
   "metadata": {},
   "source": [
    "## Analysis <a name=\"analysis\"></a>"
   ]
  },
  {
   "cell_type": "markdown",
   "metadata": {},
   "source": [
    "### Data understanding"
   ]
  },
  {
   "cell_type": "markdown",
   "metadata": {},
   "source": [
    "First, let's understand the data, there are many XXXKEY columns in the dataset, they are maybe some FOREIGN KEYs to relate other datasets, here we ignore them.\n",
    "\n",
    "Then let's watch other columns, get their value counts to determine wheather these features will be selected. We plot the histogram of them."
   ]
  },
  {
   "cell_type": "code",
   "execution_count": 6,
   "metadata": {},
   "outputs": [
    {
     "data": {
      "image/png": "[encoded data removed]",
      "text/plain": [
       "<Figure size 720x720 with 23 Axes>"
      ]
     },
     "metadata": {},
     "output_type": "display_data"
    }
   ],
   "source": [
    "# feature selection\n",
    "columns = ['SEVERITYCODE','ADDRTYPE', 'LOCATION', 'COLLISIONTYPE', 'JUNCTIONTYPE', \n",
    "           'INATTENTIONIND', 'UNDERINFL', 'WEATHER', 'ROADCOND', \n",
    "           'LIGHTCOND', 'PEDROWNOTGRNT', 'SPEEDING', 'ST_COLCODE', 'HITPARKEDCAR',\n",
    "           'PERSONCOUNT', 'PEDCOUNT', 'PEDCYLCOUNT', 'VEHCOUNT', 'INJURIES', \n",
    "           'SERIOUSINJURIES', 'FATALITIES', 'SDOT_COLCODE', 'SDOTCOLNUM']\n",
    "\n",
    "# display distribution of features\n",
    "plt.figure(figsize=(10,10))\n",
    "for i in range(len(columns)):\n",
    "    plt.subplot(5, 5, i+1)\n",
    "    plt.xticks([])\n",
    "    plt.yticks([])\n",
    "    plt.grid(False)\n",
    "    plt.hist(df[columns[i]])\n",
    "    plt.xlabel(columns[i])\n",
    "plt.show()"
   ]
  },
  {
   "cell_type": "markdown",
   "metadata": {},
   "source": [
    "#### SEVERITYCODE and ADDRTYPE and INJURIES"
   ]
  },
  {
   "cell_type": "code",
   "execution_count": 7,
   "metadata": {},
   "outputs": [
    {
     "data": {
      "image/png": "[encoded data removed]",
      "text/plain": [
       "<Figure size 1058.38x216 with 3 Axes>"
      ]
     },
     "metadata": {
      "needs_background": "light"
     },
     "output_type": "display_data"
    }
   ],
   "source": [
    "bins = np.linspace(df.INJURIES.min(), df.INJURIES.max(), 10)\n",
    "g = sns.FacetGrid(df, col=\"ADDRTYPE\", hue=\"SEVERITYDESC\", palette=\"Set1\", col_wrap=4)\n",
    "g.map(plt.hist, 'INJURIES', bins=bins, ec=\"k\", alpha=0.8)\n",
    "g.add_legend()\n",
    "plt.show()"
   ]
  },
  {
   "cell_type": "markdown",
   "metadata": {},
   "source": [
    "#### SEVERITYCODE and JUNCTIONTYPE"
   ]
  },
  {
   "cell_type": "code",
   "execution_count": 8,
   "metadata": {},
   "outputs": [
    {
     "data": {
      "image/png": "[encoded data removed]",
      "text/plain": [
       "<Figure size 720x360 with 1 Axes>"
      ]
     },
     "metadata": {
      "needs_background": "light"
     },
     "output_type": "display_data"
    }
   ],
   "source": [
    "plt.figure(figsize=(10,5))    \n",
    "sns.countplot(x=\"JUNCTIONTYPE\", hue=\"SEVERITYDESC\", data=df, palette=\"Paired\")\n",
    "\n",
    "plt.title('Junction Type and Severity count')\n",
    "plt.xlabel('Junction Type')\n",
    "plt.xticks(rotation=40)\n",
    "plt.ylabel('Number of Collision')\n",
    "plt.legend(loc='upper right')\n",
    "plt.show()"
   ]
  },
  {
   "cell_type": "markdown",
   "metadata": {},
   "source": [
    "#### SEVERITYCODE and ROADCOND "
   ]
  },
  {
   "cell_type": "code",
   "execution_count": 9,
   "metadata": {},
   "outputs": [
    {
     "data": {
      "image/png": "[encoded data removed]",
      "text/plain": [
       "<Figure size 720x360 with 1 Axes>"
      ]
     },
     "metadata": {
      "needs_background": "light"
     },
     "output_type": "display_data"
    }
   ],
   "source": [
    "plt.figure(figsize=(10,5))   \n",
    "sns.countplot(x=\"ROADCOND\", hue=\"SEVERITYDESC\", data=df, palette=\"Paired\")\n",
    "\n",
    "plt.title('Road Condition and Severity count')\n",
    "plt.xlabel('Road Condition')\n",
    "plt.xticks(rotation=40)\n",
    "plt.ylabel('Number of Collision')\n",
    "plt.legend(loc='upper right')\n",
    "plt.show()"
   ]
  },
  {
   "cell_type": "markdown",
   "metadata": {},
   "source": [
    "#### Number of collision of each year"
   ]
  },
  {
   "cell_type": "code",
   "execution_count": 10,
   "metadata": {},
   "outputs": [
    {
     "data": {
      "text/plain": [
       "INCYEAR\n",
       "2003        1\n",
       "2004    15457\n",
       "2005    16016\n",
       "2006    15794\n",
       "2007    15082\n",
       "2008    14139\n",
       "2009    13275\n",
       "2010    11958\n",
       "2011    12416\n",
       "2012    12732\n",
       "2013    12757\n",
       "2014    13212\n",
       "2015    14260\n",
       "2016    13955\n",
       "2017    12477\n",
       "2018    12198\n",
       "2019    11204\n",
       "2020     4592\n",
       "Name: INCYEAR, dtype: int64"
      ]
     },
     "execution_count": 10,
     "metadata": {},
     "output_type": "execute_result"
    }
   ],
   "source": [
    "# substring from INCDATE\n",
    "df['INCYEAR'] = df['INCDATE'].str[0:4]\n",
    "\n",
    "# sort and count\n",
    "years = df.INCYEAR.sort_values().unique().tolist()\n",
    "num_collision = df.groupby('INCYEAR')['INCYEAR'].count()\n",
    "num_collision"
   ]
  },
  {
   "cell_type": "code",
   "execution_count": 11,
   "metadata": {},
   "outputs": [
    {
     "data": {
      "image/png": "[encoded data removed]",
      "text/plain": [
       "<Figure size 720x360 with 1 Axes>"
      ]
     },
     "metadata": {
      "needs_background": "light"
     },
     "output_type": "display_data"
    }
   ],
   "source": [
    "# plot\n",
    "plt.figure(figsize=(10,5))\n",
    "plt.plot(years, num_collision.values, 'r-')\n",
    "plt.xlabel('Year')\n",
    "plt.xticks(rotation=40)\n",
    "plt.ylabel('Number of Collision')\n",
    "plt.show()"
   ]
  },
  {
   "cell_type": "markdown",
   "metadata": {},
   "source": [
    "#### Number of involved Person ... each year"
   ]
  },
  {
   "cell_type": "code",
   "execution_count": 12,
   "metadata": {},
   "outputs": [
    {
     "data": {
      "text/html": [
       "<div>\n",
       "<style scoped>\n",
       "    .dataframe tbody tr th:only-of-type {\n",
       "        vertical-align: middle;\n",
       "    }\n",
       "\n",
       "    .dataframe tbody tr th {\n",
       "        vertical-align: top;\n",
       "    }\n",
       "\n",
       "    .dataframe thead th {\n",
       "        text-align: right;\n",
       "    }\n",
       "</style>\n",
       "<table border=\"1\" class=\"dataframe\">\n",
       "  <thead>\n",
       "    <tr style=\"text-align: right;\">\n",
       "      <th></th>\n",
       "      <th>PERSONCOUNT</th>\n",
       "      <th>PEDCOUNT</th>\n",
       "      <th>PEDCYLCOUNT</th>\n",
       "      <th>VEHCOUNT</th>\n",
       "      <th>INJURIES</th>\n",
       "      <th>SERIOUSINJURIES</th>\n",
       "      <th>FATALITIES</th>\n",
       "    </tr>\n",
       "    <tr>\n",
       "      <th>INCYEAR</th>\n",
       "      <th></th>\n",
       "      <th></th>\n",
       "      <th></th>\n",
       "      <th></th>\n",
       "      <th></th>\n",
       "      <th></th>\n",
       "      <th></th>\n",
       "    </tr>\n",
       "  </thead>\n",
       "  <tbody>\n",
       "    <tr>\n",
       "      <th>2003</th>\n",
       "      <td>0</td>\n",
       "      <td>0</td>\n",
       "      <td>0</td>\n",
       "      <td>0</td>\n",
       "      <td>0</td>\n",
       "      <td>0</td>\n",
       "      <td>0</td>\n",
       "    </tr>\n",
       "    <tr>\n",
       "      <th>2004</th>\n",
       "      <td>30890</td>\n",
       "      <td>420</td>\n",
       "      <td>232</td>\n",
       "      <td>23934</td>\n",
       "      <td>5393</td>\n",
       "      <td>243</td>\n",
       "      <td>30</td>\n",
       "    </tr>\n",
       "    <tr>\n",
       "      <th>2005</th>\n",
       "      <td>39078</td>\n",
       "      <td>500</td>\n",
       "      <td>283</td>\n",
       "      <td>30489</td>\n",
       "      <td>6451</td>\n",
       "      <td>223</td>\n",
       "      <td>30</td>\n",
       "    </tr>\n",
       "    <tr>\n",
       "      <th>2006</th>\n",
       "      <td>38640</td>\n",
       "      <td>601</td>\n",
       "      <td>360</td>\n",
       "      <td>30589</td>\n",
       "      <td>6239</td>\n",
       "      <td>318</td>\n",
       "      <td>42</td>\n",
       "    </tr>\n",
       "    <tr>\n",
       "      <th>2007</th>\n",
       "      <td>36859</td>\n",
       "      <td>523</td>\n",
       "      <td>358</td>\n",
       "      <td>29065</td>\n",
       "      <td>5713</td>\n",
       "      <td>263</td>\n",
       "      <td>14</td>\n",
       "    </tr>\n",
       "    <tr>\n",
       "      <th>2008</th>\n",
       "      <td>34482</td>\n",
       "      <td>504</td>\n",
       "      <td>357</td>\n",
       "      <td>27412</td>\n",
       "      <td>5358</td>\n",
       "      <td>205</td>\n",
       "      <td>20</td>\n",
       "    </tr>\n",
       "    <tr>\n",
       "      <th>2009</th>\n",
       "      <td>30149</td>\n",
       "      <td>481</td>\n",
       "      <td>376</td>\n",
       "      <td>23504</td>\n",
       "      <td>4787</td>\n",
       "      <td>214</td>\n",
       "      <td>24</td>\n",
       "    </tr>\n",
       "    <tr>\n",
       "      <th>2010</th>\n",
       "      <td>28642</td>\n",
       "      <td>543</td>\n",
       "      <td>362</td>\n",
       "      <td>21454</td>\n",
       "      <td>4711</td>\n",
       "      <td>210</td>\n",
       "      <td>20</td>\n",
       "    </tr>\n",
       "    <tr>\n",
       "      <th>2011</th>\n",
       "      <td>28168</td>\n",
       "      <td>435</td>\n",
       "      <td>362</td>\n",
       "      <td>21631</td>\n",
       "      <td>4348</td>\n",
       "      <td>155</td>\n",
       "      <td>11</td>\n",
       "    </tr>\n",
       "    <tr>\n",
       "      <th>2012</th>\n",
       "      <td>28145</td>\n",
       "      <td>500</td>\n",
       "      <td>371</td>\n",
       "      <td>20353</td>\n",
       "      <td>4853</td>\n",
       "      <td>182</td>\n",
       "      <td>22</td>\n",
       "    </tr>\n",
       "    <tr>\n",
       "      <th>2013</th>\n",
       "      <td>27682</td>\n",
       "      <td>442</td>\n",
       "      <td>406</td>\n",
       "      <td>19961</td>\n",
       "      <td>4643</td>\n",
       "      <td>180</td>\n",
       "      <td>24</td>\n",
       "    </tr>\n",
       "    <tr>\n",
       "      <th>2014</th>\n",
       "      <td>30133</td>\n",
       "      <td>531</td>\n",
       "      <td>432</td>\n",
       "      <td>23137</td>\n",
       "      <td>4897</td>\n",
       "      <td>185</td>\n",
       "      <td>18</td>\n",
       "    </tr>\n",
       "    <tr>\n",
       "      <th>2015</th>\n",
       "      <td>26184</td>\n",
       "      <td>536</td>\n",
       "      <td>476</td>\n",
       "      <td>25404</td>\n",
       "      <td>5125</td>\n",
       "      <td>189</td>\n",
       "      <td>21</td>\n",
       "    </tr>\n",
       "    <tr>\n",
       "      <th>2016</th>\n",
       "      <td>29980</td>\n",
       "      <td>566</td>\n",
       "      <td>414</td>\n",
       "      <td>21763</td>\n",
       "      <td>5073</td>\n",
       "      <td>174</td>\n",
       "      <td>24</td>\n",
       "    </tr>\n",
       "    <tr>\n",
       "      <th>2017</th>\n",
       "      <td>22873</td>\n",
       "      <td>546</td>\n",
       "      <td>365</td>\n",
       "      <td>20945</td>\n",
       "      <td>4747</td>\n",
       "      <td>173</td>\n",
       "      <td>21</td>\n",
       "    </tr>\n",
       "    <tr>\n",
       "      <th>2018</th>\n",
       "      <td>27241</td>\n",
       "      <td>570</td>\n",
       "      <td>402</td>\n",
       "      <td>19727</td>\n",
       "      <td>4576</td>\n",
       "      <td>192</td>\n",
       "      <td>14</td>\n",
       "    </tr>\n",
       "    <tr>\n",
       "      <th>2019</th>\n",
       "      <td>24268</td>\n",
       "      <td>578</td>\n",
       "      <td>391</td>\n",
       "      <td>17405</td>\n",
       "      <td>4192</td>\n",
       "      <td>177</td>\n",
       "      <td>26</td>\n",
       "    </tr>\n",
       "    <tr>\n",
       "      <th>2020</th>\n",
       "      <td>9909</td>\n",
       "      <td>168</td>\n",
       "      <td>114</td>\n",
       "      <td>6572</td>\n",
       "      <td>1730</td>\n",
       "      <td>86</td>\n",
       "      <td>14</td>\n",
       "    </tr>\n",
       "  </tbody>\n",
       "</table>\n",
       "</div>"
      ],
      "text/plain": [
       "         PERSONCOUNT  PEDCOUNT  PEDCYLCOUNT  VEHCOUNT  INJURIES  \\\n",
       "INCYEAR                                                           \n",
       "2003               0         0            0         0         0   \n",
       "2004           30890       420          232     23934      5393   \n",
       "2005           39078       500          283     30489      6451   \n",
       "2006           38640       601          360     30589      6239   \n",
       "2007           36859       523          358     29065      5713   \n",
       "2008           34482       504          357     27412      5358   \n",
       "2009           30149       481          376     23504      4787   \n",
       "2010           28642       543          362     21454      4711   \n",
       "2011           28168       435          362     21631      4348   \n",
       "2012           28145       500          371     20353      4853   \n",
       "2013           27682       442          406     19961      4643   \n",
       "2014           30133       531          432     23137      4897   \n",
       "2015           26184       536          476     25404      5125   \n",
       "2016           29980       566          414     21763      5073   \n",
       "2017           22873       546          365     20945      4747   \n",
       "2018           27241       570          402     19727      4576   \n",
       "2019           24268       578          391     17405      4192   \n",
       "2020            9909       168          114      6572      1730   \n",
       "\n",
       "         SERIOUSINJURIES  FATALITIES  \n",
       "INCYEAR                               \n",
       "2003                   0           0  \n",
       "2004                 243          30  \n",
       "2005                 223          30  \n",
       "2006                 318          42  \n",
       "2007                 263          14  \n",
       "2008                 205          20  \n",
       "2009                 214          24  \n",
       "2010                 210          20  \n",
       "2011                 155          11  \n",
       "2012                 182          22  \n",
       "2013                 180          24  \n",
       "2014                 185          18  \n",
       "2015                 189          21  \n",
       "2016                 174          24  \n",
       "2017                 173          21  \n",
       "2018                 192          14  \n",
       "2019                 177          26  \n",
       "2020                  86          14  "
      ]
     },
     "execution_count": 12,
     "metadata": {},
     "output_type": "execute_result"
    }
   ],
   "source": [
    "df_count = df[['INCYEAR','PERSONCOUNT','PEDCOUNT','PEDCYLCOUNT',\n",
    "               'VEHCOUNT','INJURIES','SERIOUSINJURIES','FATALITIES']]\n",
    "df_count_year = df_count.groupby('INCYEAR')['PERSONCOUNT','PEDCOUNT','PEDCYLCOUNT',\n",
    "                                            'VEHCOUNT','INJURIES','SERIOUSINJURIES','FATALITIES'].sum()\n",
    "df_count_year"
   ]
  },
  {
   "cell_type": "code",
   "execution_count": 13,
   "metadata": {},
   "outputs": [
    {
     "data": {
      "image/png": "[encoded data removed]",
      "text/plain": [
       "<Figure size 720x360 with 1 Axes>"
      ]
     },
     "metadata": {
      "needs_background": "light"
     },
     "output_type": "display_data"
    }
   ],
   "source": [
    "# plot\n",
    "df_count_year.plot(kind='area', alpha=0.3, stacked=False, figsize=(10,5))\n",
    "\n",
    "plt.title('Number of involved Person, Vehicle, Bicycle ... each year')\n",
    "plt.ylabel('Number')\n",
    "plt.xlabel('Year')\n",
    "plt.xticks(rotation=40)\n",
    "plt.show()"
   ]
  },
  {
   "cell_type": "markdown",
   "metadata": {},
   "source": [
    "### Data pre-processing"
   ]
  },
  {
   "cell_type": "markdown",
   "metadata": {},
   "source": [
    "Now we remove the row that the SEVERITYCODE is null."
   ]
  },
  {
   "cell_type": "code",
   "execution_count": 14,
   "metadata": {},
   "outputs": [
    {
     "data": {
      "text/plain": [
       "(221524, 23)"
      ]
     },
     "execution_count": 14,
     "metadata": {},
     "output_type": "execute_result"
    }
   ],
   "source": [
    "# remove the row with target column has null value\n",
    "raw_data = df[columns]\n",
    "raw_data = raw_data[~raw_data.SEVERITYCODE.isnull()]\n",
    "raw_data.shape"
   ]
  },
  {
   "cell_type": "code",
   "execution_count": 15,
   "metadata": {},
   "outputs": [
    {
     "data": {
      "text/plain": [
       "(221524, 22)"
      ]
     },
     "execution_count": 15,
     "metadata": {},
     "output_type": "execute_result"
    }
   ],
   "source": [
    "# make raw feature for preprocessing\n",
    "raw_feature = raw_data.copy()\n",
    "raw_feature.drop('SEVERITYCODE', axis=1, inplace=True)\n",
    "raw_feature.shape"
   ]
  },
  {
   "cell_type": "markdown",
   "metadata": {},
   "source": [
    "### Missing value filling"
   ]
  },
  {
   "cell_type": "code",
   "execution_count": 16,
   "metadata": {},
   "outputs": [
    {
     "name": "stdout",
     "output_type": "stream",
     "text": [
      "ADDRTYPE object 0\n",
      "LOCATION object 0\n",
      "COLLISIONTYPE object 0\n",
      "JUNCTIONTYPE object 0\n",
      "INATTENTIONIND object 0\n",
      "UNDERINFL object 0\n",
      "WEATHER object 0\n",
      "ROADCOND object 0\n",
      "LIGHTCOND object 0\n",
      "PEDROWNOTGRNT object 0\n",
      "SPEEDING object 0\n",
      "ST_COLCODE object 0\n",
      "HITPARKEDCAR object 0\n",
      "PERSONCOUNT int64 0\n",
      "PEDCOUNT int64 0\n",
      "PEDCYLCOUNT int64 0\n",
      "VEHCOUNT int64 0\n",
      "INJURIES int64 0\n",
      "SERIOUSINJURIES int64 0\n",
      "FATALITIES int64 0\n",
      "SDOT_COLCODE float64 0\n",
      "SDOTCOLNUM float64 0\n"
     ]
    }
   ],
   "source": [
    "# missing value filling & category and numeric processing\n",
    "category_columns = []\n",
    "numeric_columns = []\n",
    "\n",
    "for col in raw_feature.columns:\n",
    "    if raw_feature[col].dtypes == 'object':\n",
    "        # find category columns\n",
    "        category_columns.append(col)\n",
    "        raw_feature[col].fillna('', inplace=True)\n",
    "    else:\n",
    "        # find numeric columns\n",
    "        numeric_columns.append(col)\n",
    "        raw_feature[col].fillna(0, inplace=True)\n",
    "\n",
    "# missing value statistic\n",
    "for col in raw_feature.columns:\n",
    "    print(col, raw_feature[col].dtypes, raw_feature[col].isnull().sum())"
   ]
  },
  {
   "cell_type": "markdown",
   "metadata": {},
   "source": [
    "### duplicate value processing\n",
    "\n",
    "#### Feature UNDERINFL processing\n",
    "Feature UNDERINFL has the different value represent same meaning, we need to make them standard.  "
   ]
  },
  {
   "cell_type": "code",
   "execution_count": 17,
   "metadata": {},
   "outputs": [
    {
     "name": "stdout",
     "output_type": "stream",
     "text": [
      "N    103926\n",
      "0     81676\n",
      "      26293\n",
      "Y      5399\n",
      "1      4230\n",
      "Name: UNDERINFL, dtype: int64\n",
      "N    211895\n",
      "Y      9629\n",
      "Name: UNDERINFL, dtype: int64\n"
     ]
    }
   ],
   "source": [
    "# duplicate value processing\n",
    "print(raw_feature['UNDERINFL'].value_counts())\n",
    "\n",
    "def deal_underinfl(x):\n",
    "    if x == '0' or x == '':\n",
    "        return 'N'\n",
    "    if x == '1':\n",
    "        return 'Y'\n",
    "    return x\n",
    "    \n",
    "raw_feature['UNDERINFL'] = raw_feature['UNDERINFL'].apply(deal_underinfl)\n",
    "print(raw_feature['UNDERINFL'].value_counts())\n"
   ]
  },
  {
   "cell_type": "markdown",
   "metadata": {},
   "source": [
    "so, UNDERINFL has only two values Y/N."
   ]
  },
  {
   "cell_type": "markdown",
   "metadata": {},
   "source": [
    "#### Feature SDOT_COLCODE/SDOTCOLNUM processing"
   ]
  },
  {
   "cell_type": "code",
   "execution_count": 18,
   "metadata": {},
   "outputs": [
    {
     "data": {
      "text/plain": [
       "ADDRTYPE           object\n",
       "LOCATION           object\n",
       "COLLISIONTYPE      object\n",
       "JUNCTIONTYPE       object\n",
       "INATTENTIONIND     object\n",
       "UNDERINFL          object\n",
       "WEATHER            object\n",
       "ROADCOND           object\n",
       "LIGHTCOND          object\n",
       "PEDROWNOTGRNT      object\n",
       "SPEEDING           object\n",
       "ST_COLCODE         object\n",
       "HITPARKEDCAR       object\n",
       "PERSONCOUNT         int64\n",
       "PEDCOUNT            int64\n",
       "PEDCYLCOUNT         int64\n",
       "VEHCOUNT            int64\n",
       "INJURIES            int64\n",
       "SERIOUSINJURIES     int64\n",
       "FATALITIES          int64\n",
       "SDOT_COLCODE        int64\n",
       "SDOTCOLNUM          int64\n",
       "dtype: object"
      ]
     },
     "execution_count": 18,
     "metadata": {},
     "output_type": "execute_result"
    }
   ],
   "source": [
    "# cast data type\n",
    "raw_feature['SDOT_COLCODE'] = raw_feature['SDOT_COLCODE'].astype('int')\n",
    "raw_feature['SDOTCOLNUM'] = raw_feature['SDOTCOLNUM'].astype('int')\n",
    "raw_feature.dtypes"
   ]
  },
  {
   "cell_type": "markdown",
   "metadata": {},
   "source": [
    "#### Feature ST_COLCODE processing\n",
    "Feature ST_COLCODE has duplicate values also, and the values have different types, we need to make them standard also."
   ]
  },
  {
   "cell_type": "code",
   "execution_count": 19,
   "metadata": {},
   "outputs": [
    {
     "name": "stdout",
     "output_type": "stream",
     "text": [
      "['45', '0', '10', ' ', '28', '71', '14', '15', '19', '23', '26', '50', '', '21', '32', '2', '13', '11', '12', '6', '22', '74', '1', '16', '51', '20', '81', '30', '56', '3', '5', '52', '4', '7', '18', '40', '83', '66', '25', '57', '72', '41', '24', '53', '29', '27', '73', '17', '65', '82', '49', '67', '84', '31', '42', '48', '43', '64', 10.0, 32.0, 22.0, 14.0, 50.0, 30.0, 23.0, 13.0, 11.0, 12.0, 0.0, 45.0, 16.0, 28.0, 42.0, 1.0, 21.0, 20.0, 27.0, 74.0, 15.0, 19.0, 81.0, 52.0, 24.0, 71.0, 2.0, 29.0, 51.0, 67.0, 83.0, 57.0, 26.0, 25.0, 48.0, 4.0, 40.0, 73.0, 3.0, 64.0, 72.0, 65.0, 53.0, 82.0, 84.0, 41.0, 66.0, 56.0, 31.0, '54', '60', '87', '8', '85', '88']\n",
      "['45', '0', '10', '', '28', '71', '14', '15', '19', '23', '26', '50', '21', '32', '2', '13', '11', '12', '6', '22', '74', '1', '16', '51', '20', '81', '30', '56', '3', '5', '52', '4', '7', '18', '40', '83', '66', '25', '57', '72', '41', '24', '53', '29', '27', '73', '17', '65', '82', '49', '67', '84', '31', '42', '48', '43', '64', '54', '60', '87', '8', '85', '88']\n"
     ]
    }
   ],
   "source": [
    "# multi value processing\n",
    "print(raw_feature['ST_COLCODE'].unique().tolist())\n",
    "\n",
    "def del_st_colcode(x):\n",
    "    if x == ' ':\n",
    "        return ''\n",
    "    if isinstance(x, float):\n",
    "        return str(int(x))\n",
    "    return x\n",
    "\n",
    "raw_feature['ST_COLCODE'] = raw_feature['ST_COLCODE'].apply(del_st_colcode)\n",
    "print(raw_feature['ST_COLCODE'].unique().tolist())"
   ]
  },
  {
   "cell_type": "markdown",
   "metadata": {},
   "source": [
    "### Category features processing\n",
    "\n",
    "We use LabelEncoder() function of sklearn to deal with category features"
   ]
  },
  {
   "cell_type": "code",
   "execution_count": 20,
   "metadata": {},
   "outputs": [
    {
     "name": "stdout",
     "output_type": "stream",
     "text": [
      "[['Block' 'AURORA AVE N BETWEEN N 117TH PL AND N 125TH ST' 'Cycles'\n",
      "  'Driveway Junction' '' 'N' 'Clear' 'Dry' 'Daylight' 'Y' '' '45' 'N']\n",
      " ['Block' '35TH AVE SW BETWEEN SW MORGAN ST AND SW HOLLY ST' 'Pedestrian'\n",
      "  'Mid-Block (not related to intersection)' '' 'N' 'Overcast' 'Dry'\n",
      "  'Dark - Street Lights On' '' '' '0' 'N']\n",
      " ['Intersection' '3RD AVE NW AND NW 100TH ST' 'Angles'\n",
      "  'At Intersection (intersection related)' '' 'N' 'Overcast' 'Wet'\n",
      "  'Daylight' '' '' '10' 'N']\n",
      " ['Intersection' 'M L KING JR WAY S AND S JACKSON ST' ''\n",
      "  'At Intersection (intersection related)' '' 'N' '' '' '' '' '' '' 'N']\n",
      " ['Block' 'W EWING ST BETWEEN 6TH AVE W AND W EWING PL' ''\n",
      "  'Mid-Block (not related to intersection)' '' 'N' '' '' '' '' '' '' 'N']]\n",
      "[[2 11154 2 3 0 0 3 1 6 1 0 33 0]\n",
      " [2 6298 7 5 0 0 6 1 3 0 0 1 0]\n",
      " [3 7091 1 2 0 0 6 9 6 0 0 3 0]\n",
      " [3 16055 0 2 0 0 0 0 0 0 0 0 0]\n",
      " [2 24322 0 5 0 0 0 0 0 0 0 0 0]]\n"
     ]
    }
   ],
   "source": [
    "# category features processing\n",
    "from sklearn.preprocessing import LabelEncoder\n",
    "\n",
    "X_category = raw_feature[category_columns].values\n",
    "print(X_category[:5])\n",
    "\n",
    "for i, col in enumerate(category_columns):\n",
    "    le = LabelEncoder()\n",
    "    le.fit(raw_feature[category_columns[i]].unique().tolist())\n",
    "    X_category[:,i] = le.transform(X_category[:,i])\n",
    "    \n",
    "print(X_category[:5])"
   ]
  },
  {
   "cell_type": "markdown",
   "metadata": {},
   "source": [
    "### Numeric features processing"
   ]
  },
  {
   "cell_type": "code",
   "execution_count": 21,
   "metadata": {},
   "outputs": [],
   "source": [
    "# numeric features processing\n",
    "X_numeric = raw_feature[numeric_columns].values"
   ]
  },
  {
   "cell_type": "markdown",
   "metadata": {},
   "source": [
    "### Feature dataset\n",
    "\n",
    "concat category and numeric features by using np.append function"
   ]
  },
  {
   "cell_type": "code",
   "execution_count": 22,
   "metadata": {},
   "outputs": [
    {
     "name": "stdout",
     "output_type": "stream",
     "text": [
      "(221524, 13)\n",
      "(221524, 9)\n",
      "(221524, 22)\n",
      "['ADDRTYPE', 'LOCATION', 'COLLISIONTYPE', 'JUNCTIONTYPE', 'INATTENTIONIND', 'UNDERINFL', 'WEATHER', 'ROADCOND', 'LIGHTCOND', 'PEDROWNOTGRNT', 'SPEEDING', 'ST_COLCODE', 'HITPARKEDCAR', 'PERSONCOUNT', 'PEDCOUNT', 'PEDCYLCOUNT', 'VEHCOUNT', 'INJURIES', 'SERIOUSINJURIES', 'FATALITIES', 'SDOT_COLCODE', 'SDOTCOLNUM'] 22\n",
      "[[2 11154 2 3 0 0 3 1 6 1 0 33 0 2 0 1 1 1 0 0 18 0]\n",
      " [2 6298 7 5 0 0 6 1 3 0 0 1 0 7 1 0 1 1 0 0 24 6015003]\n",
      " [3 7091 1 2 0 0 6 9 6 0 0 3 0 2 0 0 2 0 0 0 14 0]\n",
      " [3 16055 0 2 0 0 0 0 0 0 0 0 0 2 0 0 0 0 0 0 14 0]\n",
      " [2 24322 0 5 0 0 0 0 0 0 0 0 0 1 0 0 0 0 0 0 0 0]]\n"
     ]
    }
   ],
   "source": [
    "# feature dataset: concat category and numerfic features\n",
    "X = np.append(X_category, X_numeric, axis=1)\n",
    "\n",
    "print(X_category.shape)\n",
    "print(X_numeric.shape)\n",
    "print(X.shape)\n",
    "\n",
    "X_names = []\n",
    "X_names.extend(category_columns)\n",
    "X_names.extend(numeric_columns)\n",
    "print(X_names, len(X_names))\n",
    "print(X[0:5])"
   ]
  },
  {
   "cell_type": "markdown",
   "metadata": {},
   "source": [
    "### Label dataset\n",
    "\n",
    "just use value of column SEVERITYCODE in our raw data copy."
   ]
  },
  {
   "cell_type": "code",
   "execution_count": 23,
   "metadata": {},
   "outputs": [
    {
     "data": {
      "text/plain": [
       "(221524,)"
      ]
     },
     "execution_count": 23,
     "metadata": {},
     "output_type": "execute_result"
    }
   ],
   "source": [
    "# label dataset\n",
    "y = raw_data['SEVERITYCODE'].values\n",
    "y.shape"
   ]
  },
  {
   "cell_type": "markdown",
   "metadata": {},
   "source": [
    "### Training and testing dataset"
   ]
  },
  {
   "cell_type": "code",
   "execution_count": 24,
   "metadata": {},
   "outputs": [
    {
     "name": "stdout",
     "output_type": "stream",
     "text": [
      "(155066, 22) (155066,)\n",
      "(66458, 22) (66458,)\n"
     ]
    }
   ],
   "source": [
    "# split training and testing dataset\n",
    "from sklearn.model_selection import train_test_split\n",
    "\n",
    "X_train, X_test, y_train, y_test = train_test_split(X, y, test_size=0.3, random_state=3)\n",
    "print(X_train.shape, y_train.shape)\n",
    "print(X_test.shape, y_test.shape)"
   ]
  },
  {
   "cell_type": "markdown",
   "metadata": {},
   "source": [
    "### Modeling\n",
    "\n",
    "use decision tree classification model for modeling test with hyper parameter max_depth 5."
   ]
  },
  {
   "cell_type": "code",
   "execution_count": 25,
   "metadata": {},
   "outputs": [
    {
     "name": "stdout",
     "output_type": "stream",
     "text": [
      "['1' '2' '0' '1' '1' '0' '1' '2' '1' '1']\n",
      "['1' '2' '0' '1' '1' '0' '1' '2' '1' '1']\n"
     ]
    }
   ],
   "source": [
    "# train dicision tree classifier model\n",
    "from sklearn.tree import DecisionTreeClassifier\n",
    "\n",
    "max_depth = 5\n",
    "model_tree = DecisionTreeClassifier(criterion=\"entropy\", max_depth=max_depth)\n",
    "model_tree.fit(X_train, y_train)\n",
    "\n",
    "# predict with test data\n",
    "yhat_tree = model_tree.predict(X_test)\n",
    "\n",
    "print(yhat_tree[0:10])\n",
    "print(y_test[0:10])"
   ]
  },
  {
   "cell_type": "markdown",
   "metadata": {},
   "source": [
    "### Evaluation\n",
    "\n",
    "we got the accuracy score 0.994989, good performance, dicision tree classification model works well."
   ]
  },
  {
   "cell_type": "code",
   "execution_count": 26,
   "metadata": {},
   "outputs": [
    {
     "name": "stdout",
     "output_type": "stream",
     "text": [
      "DecisionTrees's Accuracy:  0.9949893165608354\n"
     ]
    }
   ],
   "source": [
    "# evaluation\n",
    "from sklearn import metrics\n",
    "\n",
    "print(\"DecisionTrees's Accuracy: \", metrics.accuracy_score(y_test, yhat_tree))"
   ]
  },
  {
   "cell_type": "markdown",
   "metadata": {},
   "source": [
    "### Hyper parameter tuning\n",
    "\n",
    "Is the max_depth hyper parameter best? let's try to find the best one. \n",
    "Make a loop of max_depth to test model accuracy score from 3 to 19."
   ]
  },
  {
   "cell_type": "code",
   "execution_count": 27,
   "metadata": {},
   "outputs": [
    {
     "name": "stdout",
     "output_type": "stream",
     "text": [
      "depth: 3 acc: 0.9895874085888832\n",
      "depth: 4 acc: 0.9930482409943122\n",
      "depth: 5 acc: 0.9949893165608354\n",
      "depth: 6 acc: 0.9954858707755274\n",
      "depth: 7 acc: 0.9954708236781125\n",
      "depth: 8 acc: 0.9956062475548467\n",
      "depth: 9 acc: 0.9958319540160703\n",
      "depth: 10 acc: 0.995877095308315\n",
      "depth: 11 acc: 0.9958169069186554\n",
      "depth: 12 acc: 0.9957567185289957\n",
      "depth: 13 acc: 0.9956513888470914\n",
      "depth: 14 acc: 0.9955009178729423\n",
      "depth: 15 acc: 0.9954557765806976\n",
      "depth: 16 acc: 0.9953955881910379\n",
      "depth: 17 acc: 0.9952601643143038\n",
      "depth: 18 acc: 0.9951698817298144\n",
      "depth: 19 acc: 0.9950344578530801\n"
     ]
    }
   ],
   "source": [
    "# find the best model\n",
    "depth_arr = []\n",
    "accuracy_arr = []\n",
    "model_arr = []\n",
    "\n",
    "depthes = 20\n",
    "for d in range(3, depthes):\n",
    "    # change depthes\n",
    "    model = DecisionTreeClassifier(criterion=\"entropy\", max_depth=d)\n",
    "    \n",
    "    # fit and predict\n",
    "    model.fit(X_train, y_train)\n",
    "    yhat_tree = model.predict(X_test)\n",
    "    \n",
    "    # calculate accuracy\n",
    "    acc = metrics.accuracy_score(y_test, yhat_tree)\n",
    "    print('depth:', d, 'acc:', acc)\n",
    "    \n",
    "    # save to list\n",
    "    depth_arr.append(d)    \n",
    "    accuracy_arr.append(acc)\n",
    "    model_arr.append(model)\n"
   ]
  },
  {
   "cell_type": "code",
   "execution_count": 28,
   "metadata": {},
   "outputs": [
    {
     "data": {
      "text/plain": [
       "Text(0.5, 0, 'max_depth')"
      ]
     },
     "execution_count": 28,
     "metadata": {},
     "output_type": "execute_result"
    },
    {
     "data": {
      "image/png": "[encoded data removed]",
      "text/plain": [
       "<Figure size 432x288 with 1 Axes>"
      ]
     },
     "metadata": {
      "needs_background": "light"
     },
     "output_type": "display_data"
    }
   ],
   "source": [
    "plt.plot(depth_arr, accuracy_arr, 'r-')\n",
    "plt.ylabel('accuracy score')\n",
    "plt.xlabel('max_depth')"
   ]
  },
  {
   "cell_type": "code",
   "execution_count": 29,
   "metadata": {},
   "outputs": [
    {
     "name": "stdout",
     "output_type": "stream",
     "text": [
      "7 10 0.995877095308315\n",
      "['1' '2' '1' '1' '1' '0' '1' '2' '1' '1']\n",
      "['1' '2' '0' '1' '1' '0' '1' '2' '1' '1']\n"
     ]
    }
   ],
   "source": [
    "# find the best model\n",
    "    \n",
    "ind = np.argmax(accuracy_arr)\n",
    "print(ind, depth_arr[ind], accuracy_arr[ind])\n",
    "\n",
    "best_model_tree = model_arr[ind]\n",
    "\n",
    "# get the predict result\n",
    "yhat_tree = best_model_tree.predict(X_test)\n",
    "\n",
    "print(yhat_tree[0:10])\n",
    "print(y_test[0:10])"
   ]
  },
  {
   "cell_type": "markdown",
   "metadata": {},
   "source": [
    "Now, we get the best max_depth as it's 10, the accuracy score is the highest 0.995877 "
   ]
  },
  {
   "cell_type": "markdown",
   "metadata": {},
   "source": [
    "## Results and Discussion <a name=\"results\"></a>"
   ]
  },
  {
   "cell_type": "markdown",
   "metadata": {},
   "source": [
    "### Classification report"
   ]
  },
  {
   "cell_type": "code",
   "execution_count": 30,
   "metadata": {},
   "outputs": [
    {
     "name": "stdout",
     "output_type": "stream",
     "text": [
      "              precision    recall  f1-score   support\n",
      "\n",
      "           0       0.98      0.98      0.98      6550\n",
      "           1       1.00      1.00      1.00     41074\n",
      "           2       1.00      1.00      1.00     17781\n",
      "          2b       1.00      0.98      0.99       937\n",
      "           3       1.00      1.00      1.00       116\n",
      "\n",
      "    accuracy                           1.00     66458\n",
      "   macro avg       0.99      0.99      0.99     66458\n",
      "weighted avg       1.00      1.00      1.00     66458\n",
      "\n"
     ]
    }
   ],
   "source": [
    "# model performance\n",
    "from sklearn.metrics import classification_report, confusion_matrix\n",
    "import itertools\n",
    "\n",
    "# Compute confusion matrix\n",
    "labels = ['2', '1', '0', '3', '2b']\n",
    "classes = ['Injury', 'Property Damage', 'Unknown', 'Fatality', 'Serious Injury']\n",
    "\n",
    "cnf_matrix = confusion_matrix(y_test, yhat_tree, labels=labels)\n",
    "np.set_printoptions(precision=2)\n",
    "\n",
    "print(classification_report(y_test, yhat_tree))"
   ]
  },
  {
   "cell_type": "markdown",
   "metadata": {},
   "source": [
    "### Ploting Result"
   ]
  },
  {
   "cell_type": "code",
   "execution_count": 31,
   "metadata": {},
   "outputs": [],
   "source": [
    "# display confusion matrix\n",
    "def plot_confusion_matrix(cm, classes,\n",
    "                          normalize=False,\n",
    "                          title='Confusion matrix',\n",
    "                          cmap=plt.cm.Blues):\n",
    "    \"\"\"\n",
    "    This function prints and plots the confusion matrix.\n",
    "    Normalization can be applied by setting `normalize=True`.\n",
    "    \"\"\"\n",
    "    if normalize:\n",
    "        cm = cm.astype('float') / cm.sum(axis=1)[:, np.newaxis]\n",
    "        print(\"Normalized confusion matrix\")\n",
    "    else:\n",
    "        print('Confusion matrix, without normalization')\n",
    "\n",
    "    print(cm)\n",
    "\n",
    "    plt.imshow(cm, interpolation='nearest', cmap=cmap)\n",
    "    plt.title(title)\n",
    "    plt.colorbar()\n",
    "    tick_marks = np.arange(len(classes))\n",
    "    plt.xticks(tick_marks, classes, rotation=45)\n",
    "    plt.yticks(tick_marks, classes)\n",
    "\n",
    "    fmt = '.2f' if normalize else 'd'\n",
    "    thresh = cm.max() / 2.\n",
    "    for i, j in itertools.product(range(cm.shape[0]), range(cm.shape[1])):\n",
    "        plt.text(j, i, format(cm[i, j], fmt),\n",
    "                 horizontalalignment=\"center\",\n",
    "                 color=\"white\" if cm[i, j] > thresh else \"black\")\n",
    "\n",
    "    plt.tight_layout()\n",
    "    plt.ylabel('True label')\n",
    "    plt.xlabel('Predicted label')"
   ]
  },
  {
   "cell_type": "code",
   "execution_count": 32,
   "metadata": {},
   "outputs": [
    {
     "name": "stdout",
     "output_type": "stream",
     "text": [
      "Confusion matrix, without normalization\n",
      "[[17777     0     0     0     4]\n",
      " [    0 40919   155     0     0]\n",
      " [    0   100  6450     0     0]\n",
      " [    0     0     0   116     0]\n",
      " [   15     0     0     0   922]]\n"
     ]
    },
    {
     "data": {
      "image/png": "[encoded data removed]",
      "text/plain": [
       "<Figure size 576x432 with 2 Axes>"
      ]
     },
     "metadata": {
      "needs_background": "light"
     },
     "output_type": "display_data"
    }
   ],
   "source": [
    "# Plot non-normalized confusion matrix\n",
    "plt.figure(figsize=(8,6))\n",
    "plot_confusion_matrix(cnf_matrix, classes=classes,\n",
    "                      normalize=False,  title='Confusion matrix')"
   ]
  },
  {
   "cell_type": "markdown",
   "metadata": {},
   "source": [
    "## Conclusion <a name=\"conclusion\"></a>"
   ]
  },
  {
   "cell_type": "markdown",
   "metadata": {},
   "source": [
    "### Feature importance"
   ]
  },
  {
   "cell_type": "code",
   "execution_count": 33,
   "metadata": {},
   "outputs": [
    {
     "name": "stdout",
     "output_type": "stream",
     "text": [
      "Feature importances:\n",
      "[4.01e-04 8.23e-04 0.00e+00 2.05e-04 0.00e+00 0.00e+00 0.00e+00 0.00e+00\n",
      " 0.00e+00 0.00e+00 2.54e-05 6.86e-04 3.26e-03 3.40e-02 6.06e-05 0.00e+00\n",
      " 2.53e-01 6.32e-01 5.84e-02 1.17e-02 4.49e-03 3.05e-04]\n"
     ]
    }
   ],
   "source": [
    "print(\"Feature importances:\\n{}\".format(best_model_tree.feature_importances_))"
   ]
  },
  {
   "cell_type": "markdown",
   "metadata": {},
   "source": [
    "### Plot feature importance"
   ]
  },
  {
   "cell_type": "code",
   "execution_count": 34,
   "metadata": {},
   "outputs": [
    {
     "data": {
      "image/png": "[encoded data removed]",
      "text/plain": [
       "<Figure size 720x432 with 1 Axes>"
      ]
     },
     "metadata": {
      "needs_background": "light"
     },
     "output_type": "display_data"
    }
   ],
   "source": [
    "# plot feature importance\n",
    "def plot_feature_importance(model, feature_num, feature_names):\n",
    "    plt.barh(range(feature_num), model.feature_importances_, align='center')\n",
    "    plt.yticks(np.arange(feature_num), feature_names)\n",
    "    plt.xlabel(\"Feature importance\")\n",
    "    plt.ylabel(\"Feature\")\n",
    "    \n",
    "plt.figure(figsize=(10,6))    \n",
    "plot_feature_importance(best_model_tree, X.data.shape[1], X_names)"
   ]
  },
  {
   "cell_type": "markdown",
   "metadata": {},
   "source": [
    "### The most important features:  \n",
    "\n",
    "NO | FEATURE | DESCRIPTION \n",
    ":--|:--|:--\n",
    "1 | INJURIES | The number of total injuries in the collision.\n",
    "2 | VEHCOUNT | The number of vehicles involved in the collision.\n",
    "3 | SERIOUSINJURES | The number of serious injuries in the collision.\n",
    "4 | PERSONCOUNT | The total number of people involved in the collision.\n",
    "5 | FATALITIES | The number of fatalities in the collision. \n",
    "6 | SDOT_COLCODE | A code given to the collision by SDOT. \n",
    "7 | HITPARKEDCAR | Whether or not the collision involved hitting a parked car.\n"
   ]
  },
  {
   "cell_type": "code",
   "execution_count": null,
   "metadata": {},
   "outputs": [],
   "source": []
  }
 ],
 "metadata": {
  "kernelspec": {
   "display_name": "Python 3",
   "language": "python",
   "name": "python3"
  },
  "language_info": {
   "codemirror_mode": {
    "name": "ipython",
    "version": 3
   },
   "file_extension": ".py",
   "mimetype": "text/x-python",
   "name": "python",
   "nbconvert_exporter": "python",
   "pygments_lexer": "ipython3",
   "version": "3.7.7"
  }
 },
 "nbformat": 4,
 "nbformat_minor": 4
}
